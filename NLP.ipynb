{
  "cells": [
    {
      "cell_type": "markdown",
      "metadata": {
        "colab_type": "text",
        "id": "view-in-github"
      },
      "source": [
        "<a href=\"https://colab.research.google.com/github/Himanshu0518/NLP/blob/main/NLP.ipynb\" target=\"_parent\"><img src=\"https://colab.research.google.com/assets/colab-badge.svg\" alt=\"Open In Colab\"/></a>"
      ]
    },
    {
      "cell_type": "markdown",
      "metadata": {
        "id": "xGnankgOr90A"
      },
      "source": [
        "# Regex\n",
        "Regular expression matching"
      ]
    },
    {
      "cell_type": "code",
      "execution_count": null,
      "metadata": {
        "id": "Hr4HjYW_TGhF"
      },
      "outputs": [],
      "source": [
        "import re"
      ]
    },
    {
      "cell_type": "code",
      "execution_count": null,
      "metadata": {
        "colab": {
          "base_uri": "https://localhost:8080/"
        },
        "id": "d7y8ABDFVb6O",
        "outputId": "8e170a80-ddc7-4938-bdd2-788968788645"
      },
      "outputs": [
        {
          "data": {
            "text/plain": [
              "['8188937945', '(848)-2345-587 ']"
            ]
          },
          "execution_count": 2,
          "metadata": {},
          "output_type": "execute_result"
        }
      ],
      "source": [
        "texts = 'Hi,My name is Himanshu singh from UP . My Mobile No is 8188937945 . Elon musk is world richest person having worth of 40 million dollors His CFO No is (848)-2345-587 '\n",
        "pattern = '\\(\\d{3}\\)-\\d{4}-\\d{3} |\\d{10}'\n",
        "re.findall(pattern,texts)"
      ]
    },
    {
      "cell_type": "code",
      "execution_count": null,
      "metadata": {
        "id": "OiqllChaV1wb"
      },
      "outputs": [],
      "source": [
        "texts = 'The gross cost of operating lease vehicles in FY2021 Q1 was $4.85 . Tesla employee count is 5400 . In previous quarter i.e. FY2020 Q4 it was $3 billion . FY2030 Q5'"
      ]
    },
    {
      "cell_type": "code",
      "execution_count": null,
      "metadata": {
        "colab": {
          "base_uri": "https://localhost:8080/"
        },
        "id": "9Cf63PUbpzgE",
        "outputId": "56899278-12c4-499c-cc62-0a00f30a2a08"
      },
      "outputs": [
        {
          "data": {
            "text/plain": [
              "['$4.85 . ', '$3 ']"
            ]
          },
          "execution_count": 4,
          "metadata": {},
          "output_type": "execute_result"
        }
      ],
      "source": [
        "pattern = '\\$[\\0-9\\.]+'\n",
        "re.findall(pattern,texts)"
      ]
    },
    {
      "cell_type": "code",
      "execution_count": null,
      "metadata": {
        "colab": {
          "base_uri": "https://localhost:8080/"
        },
        "id": "ijfym-D_rj0I",
        "outputId": "7b8118ee-750b-451f-d5d8-1980f3f0de88"
      },
      "outputs": [
        {
          "data": {
            "text/plain": [
              "['4.85 . ', '3 ']"
            ]
          },
          "execution_count": 5,
          "metadata": {},
          "output_type": "execute_result"
        }
      ],
      "source": [
        "# If I do ' want this $ sign i.e capturing groups\n",
        "pattern = '\\$([\\0-9\\.]+)'\n",
        "re.findall(pattern,texts)"
      ]
    },
    {
      "cell_type": "code",
      "execution_count": null,
      "metadata": {
        "colab": {
          "base_uri": "https://localhost:8080/"
        },
        "id": "bzb0Wt2Qr5F5",
        "outputId": "04bb4fc3-34a1-4dd2-fc16-5a9b18bf19a3"
      },
      "outputs": [
        {
          "data": {
            "text/plain": [
              "[('FY2021 Q1', '$4.85'), ('FY2020 Q4', '$3')]"
            ]
          },
          "execution_count": 6,
          "metadata": {},
          "output_type": "execute_result"
        }
      ],
      "source": [
        "# FY2021Q1 ==> 4.85   FY2020Q2 ==> 3\n",
        "pattern = '(FY\\d{4} Q[1234])[^\\$]+(\\$[0-9\\.]+)'\n",
        "re.findall(pattern,texts)"
      ]
    },
    {
      "cell_type": "markdown",
      "metadata": {
        "id": "fTgnE9w2xnEI"
      },
      "source": [
        "\n",
        "1. Extract all twitter handles from following text. Twitter handle is the text that appears after https://twitter.com/ and is a single word. Also it contains only alpha numeric characters i.e. A-Z a-z , o to 9 and underscore _"
      ]
    },
    {
      "cell_type": "code",
      "execution_count": null,
      "metadata": {
        "colab": {
          "base_uri": "https://localhost:8080/"
        },
        "id": "AqU4dGMEvKEi",
        "outputId": "4a4c3bb9-c4b9-4960-da6b-4ee6f2913fd5"
      },
      "outputs": [
        {
          "data": {
            "text/plain": [
              "['elonmusk', 'teslarati', 'dummy_tesla', 'dummy_2_tesla']"
            ]
          },
          "execution_count": 8,
          "metadata": {},
          "output_type": "execute_result"
        }
      ],
      "source": [
        "text = '''\n",
        "Follow our leader Elon musk on twitter here: https://twitter.com/elonmusk, more information\n",
        "on Tesla's products can be found at https://www.tesla.com/. Also here are leading influencers\n",
        "for tesla related news,\n",
        "https://twitter.com/teslarati\n",
        "https://twitter.com/dummy_tesla\n",
        "https://twitter.com/dummy_2_tesla\n",
        "'''\n",
        "pattern = 'https:\\/\\/twitter.com\\/([a-zA-z0-9_]+)' # todo: type your regex here\n",
        "\n",
        "re.findall(pattern, text)"
      ]
    },
    {
      "cell_type": "markdown",
      "metadata": {
        "id": "5h2CwRTboo5i"
      },
      "source": [
        "#Tokenization"
      ]
    },
    {
      "cell_type": "code",
      "execution_count": null,
      "metadata": {
        "id": "RN8LlU1FxqeV"
      },
      "outputs": [],
      "source": [
        "corpus = \"The Param Vir Chakra (PVC) is India's highest military decoration awarded for displaying distinguished acts of valor during wartime. Established on January 26, 1950, the medal is awarded to members of the Indian Armed Forces for their extraordinary bravery in the face of the enemy. The decoration is conferred for the most conspicuous bravery or some daring or pre-eminent act of valor or self-sacrifice, in the presence of the enemy, whether on land, at sea, or in the air.\""
      ]
    },
    {
      "cell_type": "code",
      "execution_count": null,
      "metadata": {
        "colab": {
          "base_uri": "https://localhost:8080/",
          "height": 122
        },
        "id": "LeKYnp3WpOdf",
        "outputId": "dc40bedd-c672-44d8-c78e-0ee68115f054"
      },
      "outputs": [
        {
          "data": {
            "application/vnd.google.colaboratory.intrinsic+json": {
              "type": "string"
            },
            "text/plain": [
              "\"The Param Vir Chakra (PVC) is India's highest military decoration awarded for displaying distinguished acts of valor during wartime. Established on January 26, 1950, the medal is awarded to members of the Indian Armed Forces for their extraordinary bravery in the face of the enemy. The decoration is conferred for the most conspicuous bravery or some daring or pre-eminent act of valor or self-sacrifice, in the presence of the enemy, whether on land, at sea, or in the air.\""
            ]
          },
          "execution_count": 2,
          "metadata": {},
          "output_type": "execute_result"
        }
      ],
      "source": [
        "corpus"
      ]
    },
    {
      "cell_type": "code",
      "execution_count": 1,
      "metadata": {},
      "outputs": [
        {
          "name": "stdout",
          "output_type": "stream",
          "text": [
            "Collecting nltk\n",
            "  Downloading nltk-3.8.1-py3-none-any.whl.metadata (2.8 kB)\n",
            "Requirement already satisfied: click in c:\\users\\hs787\\appdata\\local\\programs\\python\\python312\\lib\\site-packages (from nltk) (8.1.7)\n",
            "Requirement already satisfied: joblib in c:\\users\\hs787\\appdata\\local\\programs\\python\\python312\\lib\\site-packages (from nltk) (1.4.2)\n",
            "Collecting regex>=2021.8.3 (from nltk)\n",
            "  Downloading regex-2024.7.24-cp312-cp312-win_amd64.whl.metadata (41 kB)\n",
            "     ---------------------------------------- 0.0/41.5 kB ? eta -:--:--\n",
            "     ---------------------------------------- 0.0/41.5 kB ? eta -:--:--\n",
            "     ------------------- -------------------- 20.5/41.5 kB ? eta -:--:--\n",
            "     -------------------------------------  41.0/41.5 kB 393.8 kB/s eta 0:00:01\n",
            "     -------------------------------------- 41.5/41.5 kB 333.1 kB/s eta 0:00:00\n",
            "Collecting tqdm (from nltk)\n",
            "  Downloading tqdm-4.66.5-py3-none-any.whl.metadata (57 kB)\n",
            "     ---------------------------------------- 0.0/57.6 kB ? eta -:--:--\n",
            "     ------- -------------------------------- 10.2/57.6 kB ? eta -:--:--\n",
            "     ---------------------------------------- 57.6/57.6 kB 1.0 MB/s eta 0:00:00\n",
            "Requirement already satisfied: colorama in c:\\users\\hs787\\appdata\\local\\programs\\python\\python312\\lib\\site-packages (from click->nltk) (0.4.6)\n",
            "Downloading nltk-3.8.1-py3-none-any.whl (1.5 MB)\n",
            "   ---------------------------------------- 0.0/1.5 MB ? eta -:--:--\n",
            "   ---------------------------------------- 0.0/1.5 MB ? eta -:--:--\n",
            "   - -------------------------------------- 0.0/1.5 MB 653.6 kB/s eta 0:00:03\n",
            "   -- ------------------------------------- 0.1/1.5 MB 871.5 kB/s eta 0:00:02\n",
            "   --- ------------------------------------ 0.1/1.5 MB 944.1 kB/s eta 0:00:02\n",
            "   ----- ---------------------------------- 0.2/1.5 MB 985.7 kB/s eta 0:00:02\n",
            "   ------ --------------------------------- 0.2/1.5 MB 962.7 kB/s eta 0:00:02\n",
            "   ------- -------------------------------- 0.3/1.5 MB 1.1 MB/s eta 0:00:02\n",
            "   -------- ------------------------------- 0.3/1.5 MB 1.1 MB/s eta 0:00:02\n",
            "   ---------- ----------------------------- 0.4/1.5 MB 1.1 MB/s eta 0:00:02\n",
            "   ----------- ---------------------------- 0.4/1.5 MB 1.1 MB/s eta 0:00:02\n",
            "   ------------ --------------------------- 0.5/1.5 MB 1.1 MB/s eta 0:00:01\n",
            "   ------------- -------------------------- 0.5/1.5 MB 1.1 MB/s eta 0:00:01\n",
            "   --------------- ------------------------ 0.6/1.5 MB 1.1 MB/s eta 0:00:01\n",
            "   ---------------- ----------------------- 0.6/1.5 MB 1.1 MB/s eta 0:00:01\n",
            "   ----------------- ---------------------- 0.7/1.5 MB 1.1 MB/s eta 0:00:01\n",
            "   ------------------- -------------------- 0.7/1.5 MB 1.1 MB/s eta 0:00:01\n",
            "   -------------------- ------------------- 0.8/1.5 MB 1.1 MB/s eta 0:00:01\n",
            "   ---------------------- ----------------- 0.8/1.5 MB 1.2 MB/s eta 0:00:01\n",
            "   ----------------------- ---------------- 0.9/1.5 MB 1.2 MB/s eta 0:00:01\n",
            "   ------------------------ --------------- 0.9/1.5 MB 1.2 MB/s eta 0:00:01\n",
            "   ------------------------- -------------- 1.0/1.5 MB 1.2 MB/s eta 0:00:01\n",
            "   -------------------------- ------------- 1.0/1.5 MB 1.2 MB/s eta 0:00:01\n",
            "   ---------------------------- ----------- 1.1/1.5 MB 1.2 MB/s eta 0:00:01\n",
            "   ----------------------------- ---------- 1.1/1.5 MB 1.2 MB/s eta 0:00:01\n",
            "   ------------------------------- -------- 1.2/1.5 MB 1.2 MB/s eta 0:00:01\n",
            "   -------------------------------- ------- 1.2/1.5 MB 1.2 MB/s eta 0:00:01\n",
            "   ---------------------------------- ----- 1.3/1.5 MB 1.2 MB/s eta 0:00:01\n",
            "   ------------------------------------ --- 1.4/1.5 MB 1.2 MB/s eta 0:00:01\n",
            "   ------------------------------------- -- 1.4/1.5 MB 1.2 MB/s eta 0:00:01\n",
            "   ---------------------------------------  1.5/1.5 MB 1.2 MB/s eta 0:00:01\n",
            "   ---------------------------------------- 1.5/1.5 MB 1.2 MB/s eta 0:00:00\n",
            "Downloading regex-2024.7.24-cp312-cp312-win_amd64.whl (269 kB)\n",
            "   ---------------------------------------- 0.0/269.2 kB ? eta -:--:--\n",
            "   ---- ----------------------------------- 30.7/269.2 kB ? eta -:--:--\n",
            "   -------- ------------------------------ 61.4/269.2 kB 825.8 kB/s eta 0:00:01\n",
            "   ------------- -------------------------- 92.2/269.2 kB 1.1 MB/s eta 0:00:01\n",
            "   ----------------- -------------------- 122.9/269.2 kB 804.6 kB/s eta 0:00:01\n",
            "   -------------------- ----------------- 143.4/269.2 kB 774.0 kB/s eta 0:00:01\n",
            "   --------------------- ---------------- 153.6/269.2 kB 706.2 kB/s eta 0:00:01\n",
            "   ------------------------ ------------- 174.1/269.2 kB 700.2 kB/s eta 0:00:01\n",
            "   -------------------------- ----------- 184.3/269.2 kB 619.5 kB/s eta 0:00:01\n",
            "   ---------------------------- --------- 204.8/269.2 kB 593.2 kB/s eta 0:00:01\n",
            "   ------------------------------- ------ 225.3/269.2 kB 551.4 kB/s eta 0:00:01\n",
            "   ------------------------------- ------ 225.3/269.2 kB 551.4 kB/s eta 0:00:01\n",
            "   ------------------------------------ - 256.0/269.2 kB 524.0 kB/s eta 0:00:01\n",
            "   -------------------------------------- 269.2/269.2 kB 502.8 kB/s eta 0:00:00\n",
            "Downloading tqdm-4.66.5-py3-none-any.whl (78 kB)\n",
            "   ---------------------------------------- 0.0/78.4 kB ? eta -:--:--\n",
            "   ----- ---------------------------------- 10.2/78.4 kB ? eta -:--:--\n",
            "   --------------- ------------------------ 30.7/78.4 kB 640.0 kB/s eta 0:00:01\n",
            "   ------------------------------- -------- 61.4/78.4 kB 544.7 kB/s eta 0:00:01\n",
            "   ---------------------------------------- 78.4/78.4 kB 544.9 kB/s eta 0:00:00\n",
            "Installing collected packages: tqdm, regex, nltk\n",
            "Successfully installed nltk-3.8.1 regex-2024.7.24 tqdm-4.66.5\n"
          ]
        },
        {
          "name": "stderr",
          "output_type": "stream",
          "text": [
            "\n",
            "[notice] A new release of pip is available: 24.0 -> 24.2\n",
            "[notice] To update, run: python.exe -m pip install --upgrade pip\n"
          ]
        }
      ],
      "source": [
        "! pip install nltk"
      ]
    },
    {
      "cell_type": "code",
      "execution_count": null,
      "metadata": {
        "colab": {
          "base_uri": "https://localhost:8080/"
        },
        "id": "Z15r1lAJp_bk",
        "outputId": "86ba5a31-926f-497a-9b06-a5729c336249"
      },
      "outputs": [
        {
          "name": "stderr",
          "output_type": "stream",
          "text": [
            "[nltk_data] Downloading package punkt to /root/nltk_data...\n",
            "[nltk_data]   Package punkt is already up-to-date!\n"
          ]
        },
        {
          "data": {
            "text/plain": [
              "True"
            ]
          },
          "execution_count": 4,
          "metadata": {},
          "output_type": "execute_result"
        }
      ],
      "source": [
        "import nltk\n",
        "nltk.download('punkt')"
      ]
    },
    {
      "cell_type": "code",
      "execution_count": null,
      "metadata": {
        "id": "vaEiNC9hpRpH"
      },
      "outputs": [],
      "source": [
        "from nltk.tokenize import sent_tokenize\n",
        "# paragraphs ---> sentences"
      ]
    },
    {
      "cell_type": "code",
      "execution_count": null,
      "metadata": {
        "id": "MHx-JY2Tpr7w"
      },
      "outputs": [],
      "source": [
        "doc = sent_tokenize(corpus)"
      ]
    },
    {
      "cell_type": "code",
      "execution_count": null,
      "metadata": {
        "colab": {
          "base_uri": "https://localhost:8080/"
        },
        "id": "7_YsfQEqpx8c",
        "outputId": "85c24826-63e5-4a8b-cc70-c401de3a9528"
      },
      "outputs": [
        {
          "data": {
            "text/plain": [
              "list"
            ]
          },
          "execution_count": 9,
          "metadata": {},
          "output_type": "execute_result"
        }
      ],
      "source": [
        "type(doc)"
      ]
    },
    {
      "cell_type": "code",
      "execution_count": null,
      "metadata": {
        "id": "4m2QBdPQqfZf"
      },
      "outputs": [],
      "source": [
        "from nltk.tokenize import word_tokenize\n",
        "# paragraph --> word or sentence --> word\n",
        "para = doc[0]+doc[1]\n",
        "words = word_tokenize(para)"
      ]
    },
    {
      "cell_type": "code",
      "execution_count": null,
      "metadata": {
        "colab": {
          "base_uri": "https://localhost:8080/"
        },
        "id": "mBjnGSizrHMd",
        "outputId": "44c0bc6d-e76d-432a-b942-590f8a060ff2"
      },
      "outputs": [
        {
          "data": {
            "text/plain": [
              "list"
            ]
          },
          "execution_count": 13,
          "metadata": {},
          "output_type": "execute_result"
        }
      ],
      "source": [
        "type(words)"
      ]
    },
    {
      "cell_type": "code",
      "execution_count": null,
      "metadata": {
        "id": "KfJ11QHlrZIB"
      },
      "outputs": [],
      "source": [
        "from nltk.tokenize import TreebankWordTokenizer"
      ]
    },
    {
      "cell_type": "code",
      "execution_count": null,
      "metadata": {
        "id": "QexZhDUWr-pK"
      },
      "outputs": [],
      "source": [
        "tokenizer = TreebankWordTokenizer()\n",
        "words1=tokenizer.tokenize(corpus)"
      ]
    },
    {
      "cell_type": "markdown",
      "metadata": {
        "id": "5FVv6Pdps6hv"
      },
      "source": [
        "# Stemming\n",
        "Stemming is a natural language processing (NLP) technique used to reduce words to their base or root stem. The goal is to strip suffixes or prefixes from words, transforming them into their most basic form, known as the \"stem.\" This process helps in improving the performance of text analysis tasks like search, indexing, and information retrieval by treating different forms of a word (e.g., \"running,\" \"runner,\" \"ran\") as the same term."
      ]
    },
    {
      "cell_type": "code",
      "execution_count": null,
      "metadata": {
        "id": "AnOT3ZxvsME3"
      },
      "outputs": [],
      "source": [
        "words = ['eat','eating','eaten','put','putting','history']"
      ]
    },
    {
      "cell_type": "code",
      "execution_count": null,
      "metadata": {
        "id": "7B8GHfZbs5Fn"
      },
      "outputs": [],
      "source": [
        "from nltk.stem import PorterStemmer"
      ]
    },
    {
      "cell_type": "markdown",
      "metadata": {
        "id": "MRkSjnx3vAsr"
      },
      "source": [
        " **Port Stemmer**"
      ]
    },
    {
      "cell_type": "code",
      "execution_count": null,
      "metadata": {
        "colab": {
          "base_uri": "https://localhost:8080/"
        },
        "id": "jD74NDFbt5cO",
        "outputId": "e991ea1e-1a25-474d-e3ed-107dd6aa6191"
      },
      "outputs": [
        {
          "name": "stdout",
          "output_type": "stream",
          "text": [
            "eat --> eat\n",
            "eating --> eat\n",
            "eaten --> eaten\n",
            "put --> put\n",
            "putting --> put\n",
            "history --> histori\n"
          ]
        }
      ],
      "source": [
        "stemming = PorterStemmer()\n",
        "for word in words:\n",
        "  print(word + \" --> \" + stemming.stem(word))"
      ]
    },
    {
      "cell_type": "markdown",
      "metadata": {
        "id": "xEmqdG9Ovy6y"
      },
      "source": [
        "**regexStemming**"
      ]
    },
    {
      "cell_type": "code",
      "execution_count": null,
      "metadata": {
        "id": "WFzx8tx3uPlk"
      },
      "outputs": [],
      "source": [
        "from nltk.stem import RegexpStemmer"
      ]
    },
    {
      "cell_type": "code",
      "execution_count": null,
      "metadata": {
        "id": "lFMmsTsCvNu2"
      },
      "outputs": [],
      "source": [
        "words = ['eatable','eating','eaten','puts','putting','fairly']"
      ]
    },
    {
      "cell_type": "code",
      "execution_count": null,
      "metadata": {
        "colab": {
          "base_uri": "https://localhost:8080/"
        },
        "id": "p733ES9mwFhE",
        "outputId": "a9b5f3c6-d3ec-42c6-d89c-b6f80c9d45e0"
      },
      "outputs": [
        {
          "name": "stdout",
          "output_type": "stream",
          "text": [
            "eatable --> eat\n",
            "eating --> eat\n",
            "eaten --> eat\n",
            "puts --> put\n",
            "putting --> putt\n",
            "fairly --> fairly\n"
          ]
        }
      ],
      "source": [
        "stemmer = RegexpStemmer('ing$|s$|able$|en$')\n",
        "for word in words:\n",
        "  print(word + \" --> \" + stemmer.stem(word))"
      ]
    },
    {
      "cell_type": "markdown",
      "metadata": {
        "id": "hNRllyZuwxWq"
      },
      "source": [
        "**snowball stemming**"
      ]
    },
    {
      "cell_type": "code",
      "execution_count": null,
      "metadata": {
        "id": "vJvzTKDOwgIE"
      },
      "outputs": [],
      "source": [
        "from nltk.stem import SnowballStemmer\n",
        "Snowstemmer = SnowballStemmer('english')"
      ]
    },
    {
      "cell_type": "code",
      "execution_count": null,
      "metadata": {
        "colab": {
          "base_uri": "https://localhost:8080/"
        },
        "id": "_t9-LkQNxHpr",
        "outputId": "92a53911-da8e-4911-9a0e-b2ce6d97bea2"
      },
      "outputs": [
        {
          "name": "stdout",
          "output_type": "stream",
          "text": [
            "eatable --> eatabl\n",
            "eating --> eat\n",
            "eaten --> eaten\n",
            "puts --> put\n",
            "putting --> put\n",
            "fairly --> fair\n"
          ]
        }
      ],
      "source": [
        "for word in words:\n",
        "  print(word + \" --> \" + Snowstemmer.stem(word))"
      ]
    },
    {
      "cell_type": "markdown",
      "metadata": {
        "id": "2Hd-vTQHyATY"
      },
      "source": [
        "#Lametization\n",
        "(NLP) technique used to reduce words to their base or dictionary form, known as a \"lemma.\" Unlike stemming, which often removes prefixes or suffixes without considering the context, lemmatization uses morphological analysis and vocabulary to accurately identify the intended meaning and root form of a word."
      ]
    },
    {
      "cell_type": "code",
      "execution_count": null,
      "metadata": {
        "id": "iQ_JlHYkxMLT"
      },
      "outputs": [],
      "source": [
        "from nltk.stem import WordNetLemmatizer"
      ]
    },
    {
      "cell_type": "code",
      "execution_count": null,
      "metadata": {
        "colab": {
          "base_uri": "https://localhost:8080/"
        },
        "id": "y41XQT5tOB1o",
        "outputId": "65c1a5c4-e0ac-49ea-c724-bc8b2c688853"
      },
      "outputs": [
        {
          "name": "stderr",
          "output_type": "stream",
          "text": [
            "[nltk_data] Downloading package wordnet to /root/nltk_data...\n"
          ]
        },
        {
          "data": {
            "text/plain": [
              "True"
            ]
          },
          "execution_count": 4,
          "metadata": {},
          "output_type": "execute_result"
        }
      ],
      "source": [
        "nltk.download('wordnet')"
      ]
    },
    {
      "cell_type": "markdown",
      "metadata": {
        "id": "26NwbBULOU7E"
      },
      "source": [
        "1. Pos - Noun-n(default)\n",
        "2. Verb-v\n",
        "3. adjective -a\n",
        "4. adverb -r"
      ]
    },
    {
      "cell_type": "code",
      "execution_count": null,
      "metadata": {
        "colab": {
          "base_uri": "https://localhost:8080/",
          "height": 36
        },
        "id": "8RGH7nmCNwZo",
        "outputId": "a2851aa2-ef26-49e5-b6b4-869f28db8596"
      },
      "outputs": [
        {
          "data": {
            "application/vnd.google.colaboratory.intrinsic+json": {
              "type": "string"
            },
            "text/plain": [
              "'run'"
            ]
          },
          "execution_count": 32,
          "metadata": {},
          "output_type": "execute_result"
        }
      ],
      "source": [
        "lemmatizer = WordNetLemmatizer()\n",
        "lemmatizer.lemmatize('running',pos='v')"
      ]
    },
    {
      "cell_type": "code",
      "execution_count": null,
      "metadata": {
        "colab": {
          "base_uri": "https://localhost:8080/"
        },
        "id": "hnK9i-rUN9VZ",
        "outputId": "7ebcca07-24d9-454e-ad40-218a617f912c"
      },
      "outputs": [
        {
          "name": "stdout",
          "output_type": "stream",
          "text": [
            "eat --> eat\n",
            "eating --> eat\n",
            "eaten --> eat\n",
            "put --> put\n",
            "putting --> put\n",
            "history --> history\n"
          ]
        }
      ],
      "source": [
        "for word in words:\n",
        "  print(word + \" --> \" + lemmatizer.lemmatize(word,pos = 'v'))"
      ]
    },
    {
      "cell_type": "markdown",
      "metadata": {
        "id": "_b8At9Oxb6cC"
      },
      "source": [
        "**Determinnig Pos**\n",
        "\n",
        "pos --> parts of speech tag"
      ]
    },
    {
      "cell_type": "code",
      "execution_count": null,
      "metadata": {
        "colab": {
          "base_uri": "https://localhost:8080/"
        },
        "id": "4HR92ygFcx39",
        "outputId": "10a42946-9649-411f-dbea-eb082a0da1c9"
      },
      "outputs": [
        {
          "name": "stderr",
          "output_type": "stream",
          "text": [
            "[nltk_data] Downloading package averaged_perceptron_tagger to\n",
            "[nltk_data]     /root/nltk_data...\n",
            "[nltk_data]   Package averaged_perceptron_tagger is already up-to-\n",
            "[nltk_data]       date!\n"
          ]
        },
        {
          "data": {
            "text/plain": [
              "True"
            ]
          },
          "execution_count": 36,
          "metadata": {},
          "output_type": "execute_result"
        }
      ],
      "source": [
        "nltk.download('averaged_perceptron_tagger')"
      ]
    },
    {
      "cell_type": "code",
      "execution_count": null,
      "metadata": {
        "colab": {
          "base_uri": "https://localhost:8080/"
        },
        "id": "RjRUBwbgb5z4",
        "outputId": "48cdb176-3047-46f5-ab70-466dfe429853"
      },
      "outputs": [
        {
          "data": {
            "text/plain": [
              "[('Ganga', 'NNP'),\n",
              " ('is', 'VBZ'),\n",
              " ('our', 'PRP$'),\n",
              " ('holy', 'JJ'),\n",
              " ('river', 'NN')]"
            ]
          },
          "execution_count": 37,
          "metadata": {},
          "output_type": "execute_result"
        }
      ],
      "source": [
        "from nltk import pos_tag\n",
        "# pos_tag will create a list of words into  list of tupples having (word,pos)\n",
        "words = 'Ganga is our holy river'\n",
        "word_list = words.split()\n",
        "pos_tag(word_list)"
      ]
    },
    {
      "cell_type": "markdown",
      "metadata": {
        "id": "JTCua2dRPofl"
      },
      "source": [
        "# Stopwords"
      ]
    },
    {
      "cell_type": "code",
      "execution_count": null,
      "metadata": {
        "id": "ic6YfrsFO__c"
      },
      "outputs": [],
      "source": [
        "from nltk.corpus import stopwords"
      ]
    },
    {
      "cell_type": "code",
      "execution_count": null,
      "metadata": {
        "id": "XZZg5afKP3BS"
      },
      "outputs": [],
      "source": [
        "from nltk.stem import PorterStemmer\n",
        "from nltk.tokenize import word_tokenize"
      ]
    },
    {
      "cell_type": "code",
      "execution_count": null,
      "metadata": {
        "colab": {
          "base_uri": "https://localhost:8080/"
        },
        "id": "_rBc9nKdP7fr",
        "outputId": "d6019703-8d5c-4cef-e0da-c05468a54685"
      },
      "outputs": [
        {
          "name": "stderr",
          "output_type": "stream",
          "text": [
            "[nltk_data] Downloading package stopwords to /root/nltk_data...\n",
            "[nltk_data]   Package stopwords is already up-to-date!\n"
          ]
        },
        {
          "data": {
            "text/plain": [
              "True"
            ]
          },
          "execution_count": 9,
          "metadata": {},
          "output_type": "execute_result"
        }
      ],
      "source": [
        "nltk.download('stopwords')"
      ]
    },
    {
      "cell_type": "code",
      "execution_count": null,
      "metadata": {
        "colab": {
          "base_uri": "https://localhost:8080/"
        },
        "id": "BqT7Nr_AQd5X",
        "outputId": "f0ec6d08-0ea6-4197-c268-74f1bac0bb4a"
      },
      "outputs": [
        {
          "data": {
            "text/plain": [
              "['i', 'me', 'my', 'myself', 'we']"
            ]
          },
          "execution_count": 10,
          "metadata": {},
          "output_type": "execute_result"
        }
      ],
      "source": [
        "stopwords.words('english')[0:5]"
      ]
    },
    {
      "cell_type": "code",
      "execution_count": null,
      "metadata": {
        "id": "1nA3S7T7QjSw"
      },
      "outputs": [],
      "source": [
        "corpus = \"The Param Vir Chakra (PVC) is India's highest military decoration awarded for displaying distinguished acts of valor during wartime. Established on January 26, 1950, the medal is awarded to members of the Indian Armed Forces for their extraordinary bravery in the face of the enemy. The decoration is conferred for the most conspicuous bravery or some daring or pre-eminent act of valor or self-sacrifice, in the presence of the enemy, whether on land, at sea, or in the air.\""
      ]
    },
    {
      "cell_type": "code",
      "execution_count": null,
      "metadata": {
        "id": "QjTBaOq7S5SY"
      },
      "outputs": [],
      "source": [
        "import re"
      ]
    },
    {
      "cell_type": "code",
      "execution_count": null,
      "metadata": {
        "id": "axz4QWsSTAV8"
      },
      "outputs": [],
      "source": [
        "pattern = '[^a-zA-Z]'\n",
        "useless = re.findall(pattern,corpus)"
      ]
    },
    {
      "cell_type": "code",
      "execution_count": null,
      "metadata": {
        "id": "2oNS6VJPWprq"
      },
      "outputs": [],
      "source": [
        "from nltk.tokenize import sent_tokenize\n",
        "sentences = sent_tokenize(corpus)"
      ]
    },
    {
      "cell_type": "code",
      "execution_count": null,
      "metadata": {
        "id": "Vk8ilMDyQ9Mg"
      },
      "outputs": [],
      "source": [
        "stemmer = PorterStemmer()\n",
        "\n",
        "corpus = corpus.lower()\n",
        "for i in range(len(sentences)):\n",
        "  words = word_tokenize(sentences[i])\n",
        "  words = [stemmer.stem(word) for word in words if word not in useless and word not in stopwords.words('english') ]\n",
        "  sentences[i] = ' '.join(words)"
      ]
    },
    {
      "cell_type": "code",
      "execution_count": null,
      "metadata": {
        "colab": {
          "base_uri": "https://localhost:8080/"
        },
        "id": "nDY36It0Rxoa",
        "outputId": "ad72b6ad-2813-4a57-86a6-519d31924d94"
      },
      "outputs": [
        {
          "data": {
            "text/plain": [
              "[\"the param vir chakra pvc india 's highest militari decor award display distinguish act valor wartim\",\n",
              " 'establish januari 26 1950 medal award member indian arm forc extraordinari braveri face enemi',\n",
              " 'the decor confer conspicu braveri dare pre-emin act valor self-sacrific presenc enemi whether land sea air']"
            ]
          },
          "execution_count": 20,
          "metadata": {},
          "output_type": "execute_result"
        }
      ],
      "source": [
        "sentences"
      ]
    },
    {
      "cell_type": "code",
      "execution_count": null,
      "metadata": {
        "id": "a5Ljrny5R0M2"
      },
      "outputs": [],
      "source": [
        "from nltk.stem import WordNetLemmatizer"
      ]
    },
    {
      "cell_type": "code",
      "execution_count": null,
      "metadata": {
        "id": "UbSdTBaqZF8B"
      },
      "outputs": [],
      "source": [
        "corpus = corpus.lower()\n",
        "for i in range(len(sentences)):\n",
        "  words = word_tokenize(sentences[i])\n",
        "  words = [WordNetLemmatizer().lemmatize(word,pos='v') for word in words if word not in useless and word not in stopwords.words('english') ]\n",
        "  sentences[i] = ' '.join(words)"
      ]
    },
    {
      "cell_type": "code",
      "execution_count": null,
      "metadata": {
        "colab": {
          "base_uri": "https://localhost:8080/"
        },
        "id": "aV7MLAcUZTfR",
        "outputId": "820a0748-fe62-4ea8-ff78-7a1ca9a03b69"
      },
      "outputs": [
        {
          "data": {
            "text/plain": [
              "[\"param vir chakra pvc india 's highest militari decor award display distinguish act valor wartim\",\n",
              " 'establish januari 26 1950 medal award member indian arm forc extraordinari braveri face enemi',\n",
              " 'decor confer conspicu braveri dare pre-emin act valor self-sacrific presenc enemi whether land sea air']"
            ]
          },
          "execution_count": 30,
          "metadata": {},
          "output_type": "execute_result"
        }
      ],
      "source": [
        "sentences"
      ]
    },
    {
      "cell_type": "markdown",
      "metadata": {
        "id": "rDMKjP1FRle2"
      },
      "source": [
        "#Word2vec"
      ]
    },
    {
      "cell_type": "code",
      "execution_count": 2,
      "metadata": {
        "colab": {
          "base_uri": "https://localhost:8080/"
        },
        "id": "b-7Ng9x1ZnKa",
        "outputId": "37e67c4f-b0f8-4cab-d96f-5ca215e04946"
      },
      "outputs": [
        {
          "name": "stdout",
          "output_type": "stream",
          "text": [
            "Collecting gensim\n",
            "  Downloading gensim-4.3.3-cp312-cp312-win_amd64.whl.metadata (8.2 kB)\n",
            "Collecting numpy<2.0,>=1.18.5 (from gensim)\n",
            "  Downloading numpy-1.26.4-cp312-cp312-win_amd64.whl.metadata (61 kB)\n",
            "     ---------------------------------------- 0.0/61.0 kB ? eta -:--:--\n",
            "     ------ --------------------------------- 10.2/61.0 kB ? eta -:--:--\n",
            "     ---------------------------------------- 61.0/61.0 kB 1.1 MB/s eta 0:00:00\n",
            "Collecting scipy<1.14.0,>=1.7.0 (from gensim)\n",
            "  Downloading scipy-1.13.1-cp312-cp312-win_amd64.whl.metadata (60 kB)\n",
            "     ---------------------------------------- 0.0/60.6 kB ? eta -:--:--\n",
            "     ---------------------------------------- 60.6/60.6 kB 3.4 MB/s eta 0:00:00\n",
            "Collecting smart-open>=1.8.1 (from gensim)\n",
            "  Downloading smart_open-7.0.4-py3-none-any.whl.metadata (23 kB)\n",
            "Collecting wrapt (from smart-open>=1.8.1->gensim)\n",
            "  Downloading wrapt-1.16.0-cp312-cp312-win_amd64.whl.metadata (6.8 kB)\n",
            "Downloading gensim-4.3.3-cp312-cp312-win_amd64.whl (24.0 MB)\n",
            "   ---------------------------------------- 0.0/24.0 MB ? eta -:--:--\n",
            "    --------------------------------------- 0.5/24.0 MB 14.2 MB/s eta 0:00:02\n",
            "   --- ------------------------------------ 2.0/24.0 MB 32.2 MB/s eta 0:00:01\n",
            "   ------ --------------------------------- 4.0/24.0 MB 32.1 MB/s eta 0:00:01\n",
            "   ------- -------------------------------- 4.7/24.0 MB 30.0 MB/s eta 0:00:01\n",
            "   --------- ------------------------------ 5.7/24.0 MB 27.9 MB/s eta 0:00:01\n",
            "   ----------- ---------------------------- 6.9/24.0 MB 27.4 MB/s eta 0:00:01\n",
            "   --------------- ------------------------ 9.2/24.0 MB 32.7 MB/s eta 0:00:01\n",
            "   ------------------- -------------------- 11.8/24.0 MB 36.4 MB/s eta 0:00:01\n",
            "   ---------------------- ----------------- 13.8/24.0 MB 36.3 MB/s eta 0:00:01\n",
            "   ------------------------- -------------- 15.3/24.0 MB 43.7 MB/s eta 0:00:01\n",
            "   -------------------------- ------------- 16.1/24.0 MB 40.9 MB/s eta 0:00:01\n",
            "   ------------------------------ --------- 18.1/24.0 MB 40.9 MB/s eta 0:00:01\n",
            "   -------------------------------- ------- 19.4/24.0 MB 36.4 MB/s eta 0:00:01\n",
            "   --------------------------------- ------ 20.1/24.0 MB 32.7 MB/s eta 0:00:01\n",
            "   ----------------------------------- ---- 21.4/24.0 MB 32.8 MB/s eta 0:00:01\n",
            "   ------------------------------------- -- 22.7/24.0 MB 28.4 MB/s eta 0:00:01\n",
            "   ---------------------------------------  24.0/24.0 MB 28.4 MB/s eta 0:00:01\n",
            "   ---------------------------------------  24.0/24.0 MB 28.4 MB/s eta 0:00:01\n",
            "   ---------------------------------------  24.0/24.0 MB 28.4 MB/s eta 0:00:01\n",
            "   ---------------------------------------- 24.0/24.0 MB 21.8 MB/s eta 0:00:00\n",
            "Downloading numpy-1.26.4-cp312-cp312-win_amd64.whl (15.5 MB)\n",
            "   ---------------------------------------- 0.0/15.5 MB ? eta -:--:--\n",
            "   -- ------------------------------------- 0.8/15.5 MB 51.9 MB/s eta 0:00:01\n",
            "   --- ------------------------------------ 1.4/15.5 MB 17.9 MB/s eta 0:00:01\n",
            "   ----- ---------------------------------- 2.0/15.5 MB 15.6 MB/s eta 0:00:01\n",
            "   --------- ------------------------------ 3.6/15.5 MB 21.0 MB/s eta 0:00:01\n",
            "   ------------- -------------------------- 5.3/15.5 MB 23.9 MB/s eta 0:00:01\n",
            "   ------------------ --------------------- 7.0/15.5 MB 26.5 MB/s eta 0:00:01\n",
            "   ---------------------- ----------------- 8.9/15.5 MB 27.0 MB/s eta 0:00:01\n",
            "   --------------------------- ------------ 10.6/15.5 MB 28.5 MB/s eta 0:00:01\n",
            "   -------------------------------- ------- 12.5/15.5 MB 36.3 MB/s eta 0:00:01\n",
            "   ------------------------------------- -- 14.4/15.5 MB 36.3 MB/s eta 0:00:01\n",
            "   ---------------------------------------  15.5/15.5 MB 38.5 MB/s eta 0:00:01\n",
            "   ---------------------------------------- 15.5/15.5 MB 32.7 MB/s eta 0:00:00\n",
            "Downloading scipy-1.13.1-cp312-cp312-win_amd64.whl (45.9 MB)\n",
            "   ---------------------------------------- 0.0/45.9 MB ? eta -:--:--\n",
            "   - -------------------------------------- 1.5/45.9 MB 49.5 MB/s eta 0:00:01\n",
            "   -- ------------------------------------- 3.2/45.9 MB 41.1 MB/s eta 0:00:02\n",
            "   ---- ----------------------------------- 4.7/45.9 MB 37.5 MB/s eta 0:00:02\n",
            "   ----- ---------------------------------- 6.3/45.9 MB 36.9 MB/s eta 0:00:02\n",
            "   ------- -------------------------------- 8.1/45.9 MB 34.7 MB/s eta 0:00:02\n",
            "   -------- ------------------------------- 9.7/45.9 MB 36.4 MB/s eta 0:00:01\n",
            "   --------- ------------------------------ 11.2/45.9 MB 34.6 MB/s eta 0:00:02\n",
            "   ---------- ----------------------------- 12.6/45.9 MB 32.8 MB/s eta 0:00:02\n",
            "   ------------ --------------------------- 14.2/45.9 MB 34.4 MB/s eta 0:00:01\n",
            "   ------------- -------------------------- 16.0/45.9 MB 36.4 MB/s eta 0:00:01\n",
            "   --------------- ------------------------ 17.9/45.9 MB 36.4 MB/s eta 0:00:01\n",
            "   ----------------- ---------------------- 19.7/45.9 MB 36.4 MB/s eta 0:00:01\n",
            "   ------------------- -------------------- 21.8/45.9 MB 36.3 MB/s eta 0:00:01\n",
            "   -------------------- ------------------- 23.4/45.9 MB 36.3 MB/s eta 0:00:01\n",
            "   -------------------- ------------------- 23.8/45.9 MB 32.8 MB/s eta 0:00:01\n",
            "   --------------------- ------------------ 24.6/45.9 MB 29.8 MB/s eta 0:00:01\n",
            "   ---------------------- ----------------- 25.8/45.9 MB 29.7 MB/s eta 0:00:01\n",
            "   ----------------------- ---------------- 27.1/45.9 MB 28.5 MB/s eta 0:00:01\n",
            "   ------------------------ --------------- 28.6/45.9 MB 27.3 MB/s eta 0:00:01\n",
            "   ------------------------- -------------- 29.7/45.9 MB 27.3 MB/s eta 0:00:01\n",
            "   --------------------------- ------------ 31.0/45.9 MB 26.2 MB/s eta 0:00:01\n",
            "   ---------------------------- ----------- 32.5/45.9 MB 26.2 MB/s eta 0:00:01\n",
            "   ----------------------------- ---------- 33.8/45.9 MB 26.2 MB/s eta 0:00:01\n",
            "   ------------------------------ --------- 35.3/45.9 MB 28.5 MB/s eta 0:00:01\n",
            "   ------------------------------- -------- 36.6/45.9 MB 28.5 MB/s eta 0:00:01\n",
            "   -------------------------------- ------- 37.9/45.9 MB 27.3 MB/s eta 0:00:01\n",
            "   ---------------------------------- ----- 39.1/45.9 MB 29.8 MB/s eta 0:00:01\n",
            "   ----------------------------------- ---- 40.7/45.9 MB 28.4 MB/s eta 0:00:01\n",
            "   ------------------------------------ --- 42.2/45.9 MB 28.4 MB/s eta 0:00:01\n",
            "   ------------------------------------- -- 43.5/45.9 MB 28.4 MB/s eta 0:00:01\n",
            "   -------------------------------------- - 43.8/45.9 MB 26.2 MB/s eta 0:00:01\n",
            "   -------------------------------------- - 44.5/45.9 MB 25.1 MB/s eta 0:00:01\n",
            "   ---------------------------------------  45.3/45.9 MB 24.2 MB/s eta 0:00:01\n",
            "   ---------------------------------------  45.9/45.9 MB 24.2 MB/s eta 0:00:01\n",
            "   ---------------------------------------  45.9/45.9 MB 24.2 MB/s eta 0:00:01\n",
            "   ---------------------------------------  45.9/45.9 MB 24.2 MB/s eta 0:00:01\n",
            "   ---------------------------------------- 45.9/45.9 MB 18.7 MB/s eta 0:00:00\n",
            "Downloading smart_open-7.0.4-py3-none-any.whl (61 kB)\n",
            "   ---------------------------------------- 0.0/61.2 kB ? eta -:--:--\n",
            "   ---------------------------------------- 61.2/61.2 kB 3.2 MB/s eta 0:00:00\n",
            "Downloading wrapt-1.16.0-cp312-cp312-win_amd64.whl (37 kB)\n",
            "Installing collected packages: wrapt, numpy, smart-open, scipy, gensim\n",
            "  Attempting uninstall: numpy\n",
            "    Found existing installation: numpy 2.0.0\n",
            "    Uninstalling numpy-2.0.0:\n",
            "      Successfully uninstalled numpy-2.0.0\n",
            "  Attempting uninstall: scipy\n",
            "    Found existing installation: scipy 1.14.0\n",
            "    Uninstalling scipy-1.14.0:\n",
            "      Successfully uninstalled scipy-1.14.0\n",
            "Successfully installed gensim-4.3.3 numpy-1.26.4 scipy-1.13.1 smart-open-7.0.4 wrapt-1.16.0\n"
          ]
        },
        {
          "name": "stderr",
          "output_type": "stream",
          "text": [
            "\n",
            "[notice] A new release of pip is available: 24.0 -> 24.2\n",
            "[notice] To update, run: python.exe -m pip install --upgrade pip\n"
          ]
        }
      ],
      "source": [
        "%pip install gensim"
      ]
    },
    {
      "cell_type": "code",
      "execution_count": null,
      "metadata": {
        "id": "SE4dv9dNaIgy"
      },
      "outputs": [],
      "source": [
        "from gensim.models import Word2Vec,KeyedVectors"
      ]
    },
    {
      "cell_type": "code",
      "execution_count": null,
      "metadata": {
        "id": "d0bHgnIMRj9l"
      },
      "outputs": [],
      "source": [
        "import gensim.downloader as api"
      ]
    },
    {
      "cell_type": "code",
      "execution_count": null,
      "metadata": {
        "id": "3IqoogbaScRd"
      },
      "outputs": [],
      "source": [
        "wv  = api.load('word2vec-google-news-300')\n",
        "vec_king = wv['king']"
      ]
    },
    {
      "cell_type": "code",
      "execution_count": null,
      "metadata": {
        "id": "aWzlVMO3Ss4C"
      },
      "outputs": [],
      "source": []
    }
  ],
  "metadata": {
    "colab": {
      "authorship_tag": "ABX9TyNMElPbAbnUS11T+MUxJdyP",
      "include_colab_link": true,
      "provenance": []
    },
    "kernelspec": {
      "display_name": "Python 3",
      "name": "python3"
    },
    "language_info": {
      "codemirror_mode": {
        "name": "ipython",
        "version": 3
      },
      "file_extension": ".py",
      "mimetype": "text/x-python",
      "name": "python",
      "nbconvert_exporter": "python",
      "pygments_lexer": "ipython3",
      "version": "3.12.4"
    }
  },
  "nbformat": 4,
  "nbformat_minor": 0
}
