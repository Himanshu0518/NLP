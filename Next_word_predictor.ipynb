{
  "nbformat": 4,
  "nbformat_minor": 0,
  "metadata": {
    "colab": {
      "provenance": [],
      "authorship_tag": "ABX9TyOz+tdoZkMiZ7ZOSX6T1aHI",
      "include_colab_link": true
    },
    "kernelspec": {
      "name": "python3",
      "display_name": "Python 3"
    },
    "language_info": {
      "name": "python"
    }
  },
  "cells": [
    {
      "cell_type": "markdown",
      "metadata": {
        "id": "view-in-github",
        "colab_type": "text"
      },
      "source": [
        "<a href=\"https://colab.research.google.com/github/Himanshu0518/NLP/blob/main/Next_word_predictor.ipynb\" target=\"_parent\"><img src=\"https://colab.research.google.com/assets/colab-badge.svg\" alt=\"Open In Colab\"/></a>"
      ]
    },
    {
      "cell_type": "code",
      "source": [
        "texts = \"As the golden rays of the setting sun painted the sky in hues of orange and pink, the small coastal town slowly came to life. The sound of waves gently crashing against the rocky shore filled the air, providing a rhythmic backdrop to the evening’s activities. Fishermen hauled their boats onto the docks, their nets heavy with the day’s catch. Seagulls circled above, screeching and diving in the hopes of grabbing a stray fish. Along the narrow cobblestone streets, the scent of grilled seafood and freshly baked bread wafted from small, family-owned restaurants. Locals and tourists alike began to fill the outdoor seating areas, chatting over glasses of wine and plates of food. Children played along the beach, their laughter carried by the breeze as they ran in and out of the shallow water. An artist sat at an easel near the pier, carefully capturing the vibrant colors of the sky on his canvas. Further down the shore, a group of teenagers gathered around a bonfire, their voices rising and falling as they shared stories and roasted marshmallows. The lighthouse in the distance stood tall and steady, its beacon flashing intermittently, guiding ships safely to the harbor. The town’s narrow alleys glowed warmly under the light of the old-fashioned street lamps, creating a cozy atmosphere as the evening settled in. A couple strolled hand in hand along the boardwalk, stopping occasionally to admire the view or take a photograph. The air was filled with a sense of contentment, as if the town itself were exhaling after a long day. The gentle hum of conversation and the clinking of cutlery created a soft, comforting background noise. As darkness slowly crept in, the stars began to appear one by one, twinkling against the clear sky. The moon rose high above the horizon, casting its silver light across the ocean’s surface, making the water shimmer like glass. The cool night breeze carried with it the salty scent of the sea, mixing with the earthy aroma of the nearby pine trees. In the distance, a guitar strummed softly, its notes blending seamlessly with the sound of the waves. Time seemed to slow down as the evening deepened, and for a moment, the world felt still. People lingered at their tables, reluctant to let the night end, savoring the final moments of the day. Soon, the laughter quieted, and the town began to rest, bathed in the glow of the moonlight and the gentle hum of the sea.\""
      ],
      "metadata": {
        "id": "5dqm0MyVsjoC"
      },
      "execution_count": 1,
      "outputs": []
    },
    {
      "cell_type": "code",
      "source": [
        "phrases = texts.split(',')\n",
        "phrases"
      ],
      "metadata": {
        "colab": {
          "base_uri": "https://localhost:8080/"
        },
        "id": "JXIZMIDPurzx",
        "outputId": "775b783c-0a50-45d4-d689-d32555ae9fde"
      },
      "execution_count": 2,
      "outputs": [
        {
          "output_type": "execute_result",
          "data": {
            "text/plain": [
              "['As the golden rays of the setting sun painted the sky in hues of orange and pink',\n",
              " ' the small coastal town slowly came to life. The sound of waves gently crashing against the rocky shore filled the air',\n",
              " ' providing a rhythmic backdrop to the evening’s activities. Fishermen hauled their boats onto the docks',\n",
              " ' their nets heavy with the day’s catch. Seagulls circled above',\n",
              " ' screeching and diving in the hopes of grabbing a stray fish. Along the narrow cobblestone streets',\n",
              " ' the scent of grilled seafood and freshly baked bread wafted from small',\n",
              " ' family-owned restaurants. Locals and tourists alike began to fill the outdoor seating areas',\n",
              " ' chatting over glasses of wine and plates of food. Children played along the beach',\n",
              " ' their laughter carried by the breeze as they ran in and out of the shallow water. An artist sat at an easel near the pier',\n",
              " ' carefully capturing the vibrant colors of the sky on his canvas. Further down the shore',\n",
              " ' a group of teenagers gathered around a bonfire',\n",
              " ' their voices rising and falling as they shared stories and roasted marshmallows. The lighthouse in the distance stood tall and steady',\n",
              " ' its beacon flashing intermittently',\n",
              " ' guiding ships safely to the harbor. The town’s narrow alleys glowed warmly under the light of the old-fashioned street lamps',\n",
              " ' creating a cozy atmosphere as the evening settled in. A couple strolled hand in hand along the boardwalk',\n",
              " ' stopping occasionally to admire the view or take a photograph. The air was filled with a sense of contentment',\n",
              " ' as if the town itself were exhaling after a long day. The gentle hum of conversation and the clinking of cutlery created a soft',\n",
              " ' comforting background noise. As darkness slowly crept in',\n",
              " ' the stars began to appear one by one',\n",
              " ' twinkling against the clear sky. The moon rose high above the horizon',\n",
              " ' casting its silver light across the ocean’s surface',\n",
              " ' making the water shimmer like glass. The cool night breeze carried with it the salty scent of the sea',\n",
              " ' mixing with the earthy aroma of the nearby pine trees. In the distance',\n",
              " ' a guitar strummed softly',\n",
              " ' its notes blending seamlessly with the sound of the waves. Time seemed to slow down as the evening deepened',\n",
              " ' and for a moment',\n",
              " ' the world felt still. People lingered at their tables',\n",
              " ' reluctant to let the night end',\n",
              " ' savoring the final moments of the day. Soon',\n",
              " ' the laughter quieted',\n",
              " ' and the town began to rest',\n",
              " ' bathed in the glow of the moonlight and the gentle hum of the sea.']"
            ]
          },
          "metadata": {},
          "execution_count": 2
        }
      ]
    },
    {
      "cell_type": "code",
      "source": [
        "sentences = []\n",
        "for sent in phrases :\n",
        "  sentences.append(sent.split('.'))\n",
        "sentences"
      ],
      "metadata": {
        "colab": {
          "base_uri": "https://localhost:8080/"
        },
        "id": "JyuLVy-au_RA",
        "outputId": "b93ee518-2c5a-470c-fad3-50db64c3bc5f"
      },
      "execution_count": 3,
      "outputs": [
        {
          "output_type": "execute_result",
          "data": {
            "text/plain": [
              "[['As the golden rays of the setting sun painted the sky in hues of orange and pink'],\n",
              " [' the small coastal town slowly came to life',\n",
              "  ' The sound of waves gently crashing against the rocky shore filled the air'],\n",
              " [' providing a rhythmic backdrop to the evening’s activities',\n",
              "  ' Fishermen hauled their boats onto the docks'],\n",
              " [' their nets heavy with the day’s catch', ' Seagulls circled above'],\n",
              " [' screeching and diving in the hopes of grabbing a stray fish',\n",
              "  ' Along the narrow cobblestone streets'],\n",
              " [' the scent of grilled seafood and freshly baked bread wafted from small'],\n",
              " [' family-owned restaurants',\n",
              "  ' Locals and tourists alike began to fill the outdoor seating areas'],\n",
              " [' chatting over glasses of wine and plates of food',\n",
              "  ' Children played along the beach'],\n",
              " [' their laughter carried by the breeze as they ran in and out of the shallow water',\n",
              "  ' An artist sat at an easel near the pier'],\n",
              " [' carefully capturing the vibrant colors of the sky on his canvas',\n",
              "  ' Further down the shore'],\n",
              " [' a group of teenagers gathered around a bonfire'],\n",
              " [' their voices rising and falling as they shared stories and roasted marshmallows',\n",
              "  ' The lighthouse in the distance stood tall and steady'],\n",
              " [' its beacon flashing intermittently'],\n",
              " [' guiding ships safely to the harbor',\n",
              "  ' The town’s narrow alleys glowed warmly under the light of the old-fashioned street lamps'],\n",
              " [' creating a cozy atmosphere as the evening settled in',\n",
              "  ' A couple strolled hand in hand along the boardwalk'],\n",
              " [' stopping occasionally to admire the view or take a photograph',\n",
              "  ' The air was filled with a sense of contentment'],\n",
              " [' as if the town itself were exhaling after a long day',\n",
              "  ' The gentle hum of conversation and the clinking of cutlery created a soft'],\n",
              " [' comforting background noise', ' As darkness slowly crept in'],\n",
              " [' the stars began to appear one by one'],\n",
              " [' twinkling against the clear sky', ' The moon rose high above the horizon'],\n",
              " [' casting its silver light across the ocean’s surface'],\n",
              " [' making the water shimmer like glass',\n",
              "  ' The cool night breeze carried with it the salty scent of the sea'],\n",
              " [' mixing with the earthy aroma of the nearby pine trees',\n",
              "  ' In the distance'],\n",
              " [' a guitar strummed softly'],\n",
              " [' its notes blending seamlessly with the sound of the waves',\n",
              "  ' Time seemed to slow down as the evening deepened'],\n",
              " [' and for a moment'],\n",
              " [' the world felt still', ' People lingered at their tables'],\n",
              " [' reluctant to let the night end'],\n",
              " [' savoring the final moments of the day', ' Soon'],\n",
              " [' the laughter quieted'],\n",
              " [' and the town began to rest'],\n",
              " [' bathed in the glow of the moonlight and the gentle hum of the sea', '']]"
            ]
          },
          "metadata": {},
          "execution_count": 3
        }
      ]
    },
    {
      "cell_type": "code",
      "source": [
        "import tensorflow as tf\n",
        "from tensorflow.keras.preprocessing.text import Tokenizer"
      ],
      "metadata": {
        "id": "TDCXsYpQwVzE"
      },
      "execution_count": 4,
      "outputs": []
    },
    {
      "cell_type": "code",
      "source": [
        "tokenizer = Tokenizer()\n",
        "tokenizer.fit_on_texts(texts.split())\n",
        "tokenizer.word_index"
      ],
      "metadata": {
        "colab": {
          "base_uri": "https://localhost:8080/"
        },
        "id": "VLTRRIMYxgHv",
        "outputId": "9c8810f6-b15b-42f0-d7e9-018f4dd5f7c6"
      },
      "execution_count": 5,
      "outputs": [
        {
          "output_type": "execute_result",
          "data": {
            "text/plain": [
              "{'the': 1,\n",
              " 'of': 2,\n",
              " 'and': 3,\n",
              " 'a': 4,\n",
              " 'in': 5,\n",
              " 'to': 6,\n",
              " 'as': 7,\n",
              " 'their': 8,\n",
              " 'with': 9,\n",
              " 'sky': 10,\n",
              " 'town': 11,\n",
              " 'along': 12,\n",
              " 'began': 13,\n",
              " 'its': 14,\n",
              " 'small': 15,\n",
              " 'slowly': 16,\n",
              " 'sound': 17,\n",
              " 'waves': 18,\n",
              " 'against': 19,\n",
              " 'shore': 20,\n",
              " 'filled': 21,\n",
              " 'air': 22,\n",
              " 'above': 23,\n",
              " 'narrow': 24,\n",
              " 'scent': 25,\n",
              " 'laughter': 26,\n",
              " 'carried': 27,\n",
              " 'by': 28,\n",
              " 'breeze': 29,\n",
              " 'they': 30,\n",
              " 'water': 31,\n",
              " 'an': 32,\n",
              " 'at': 33,\n",
              " 'down': 34,\n",
              " 'distance': 35,\n",
              " 'light': 36,\n",
              " 'evening': 37,\n",
              " 'hand': 38,\n",
              " 'day': 39,\n",
              " 'gentle': 40,\n",
              " 'hum': 41,\n",
              " 'one': 42,\n",
              " 'night': 43,\n",
              " 'sea': 44,\n",
              " 'golden': 45,\n",
              " 'rays': 46,\n",
              " 'setting': 47,\n",
              " 'sun': 48,\n",
              " 'painted': 49,\n",
              " 'hues': 50,\n",
              " 'orange': 51,\n",
              " 'pink': 52,\n",
              " 'coastal': 53,\n",
              " 'came': 54,\n",
              " 'life': 55,\n",
              " 'gently': 56,\n",
              " 'crashing': 57,\n",
              " 'rocky': 58,\n",
              " 'providing': 59,\n",
              " 'rhythmic': 60,\n",
              " 'backdrop': 61,\n",
              " 'evening’s': 62,\n",
              " 'activities': 63,\n",
              " 'fishermen': 64,\n",
              " 'hauled': 65,\n",
              " 'boats': 66,\n",
              " 'onto': 67,\n",
              " 'docks': 68,\n",
              " 'nets': 69,\n",
              " 'heavy': 70,\n",
              " 'day’s': 71,\n",
              " 'catch': 72,\n",
              " 'seagulls': 73,\n",
              " 'circled': 74,\n",
              " 'screeching': 75,\n",
              " 'diving': 76,\n",
              " 'hopes': 77,\n",
              " 'grabbing': 78,\n",
              " 'stray': 79,\n",
              " 'fish': 80,\n",
              " 'cobblestone': 81,\n",
              " 'streets': 82,\n",
              " 'grilled': 83,\n",
              " 'seafood': 84,\n",
              " 'freshly': 85,\n",
              " 'baked': 86,\n",
              " 'bread': 87,\n",
              " 'wafted': 88,\n",
              " 'from': 89,\n",
              " 'family': 90,\n",
              " 'owned': 91,\n",
              " 'restaurants': 92,\n",
              " 'locals': 93,\n",
              " 'tourists': 94,\n",
              " 'alike': 95,\n",
              " 'fill': 96,\n",
              " 'outdoor': 97,\n",
              " 'seating': 98,\n",
              " 'areas': 99,\n",
              " 'chatting': 100,\n",
              " 'over': 101,\n",
              " 'glasses': 102,\n",
              " 'wine': 103,\n",
              " 'plates': 104,\n",
              " 'food': 105,\n",
              " 'children': 106,\n",
              " 'played': 107,\n",
              " 'beach': 108,\n",
              " 'ran': 109,\n",
              " 'out': 110,\n",
              " 'shallow': 111,\n",
              " 'artist': 112,\n",
              " 'sat': 113,\n",
              " 'easel': 114,\n",
              " 'near': 115,\n",
              " 'pier': 116,\n",
              " 'carefully': 117,\n",
              " 'capturing': 118,\n",
              " 'vibrant': 119,\n",
              " 'colors': 120,\n",
              " 'on': 121,\n",
              " 'his': 122,\n",
              " 'canvas': 123,\n",
              " 'further': 124,\n",
              " 'group': 125,\n",
              " 'teenagers': 126,\n",
              " 'gathered': 127,\n",
              " 'around': 128,\n",
              " 'bonfire': 129,\n",
              " 'voices': 130,\n",
              " 'rising': 131,\n",
              " 'falling': 132,\n",
              " 'shared': 133,\n",
              " 'stories': 134,\n",
              " 'roasted': 135,\n",
              " 'marshmallows': 136,\n",
              " 'lighthouse': 137,\n",
              " 'stood': 138,\n",
              " 'tall': 139,\n",
              " 'steady': 140,\n",
              " 'beacon': 141,\n",
              " 'flashing': 142,\n",
              " 'intermittently': 143,\n",
              " 'guiding': 144,\n",
              " 'ships': 145,\n",
              " 'safely': 146,\n",
              " 'harbor': 147,\n",
              " 'town’s': 148,\n",
              " 'alleys': 149,\n",
              " 'glowed': 150,\n",
              " 'warmly': 151,\n",
              " 'under': 152,\n",
              " 'old': 153,\n",
              " 'fashioned': 154,\n",
              " 'street': 155,\n",
              " 'lamps': 156,\n",
              " 'creating': 157,\n",
              " 'cozy': 158,\n",
              " 'atmosphere': 159,\n",
              " 'settled': 160,\n",
              " 'couple': 161,\n",
              " 'strolled': 162,\n",
              " 'boardwalk': 163,\n",
              " 'stopping': 164,\n",
              " 'occasionally': 165,\n",
              " 'admire': 166,\n",
              " 'view': 167,\n",
              " 'or': 168,\n",
              " 'take': 169,\n",
              " 'photograph': 170,\n",
              " 'was': 171,\n",
              " 'sense': 172,\n",
              " 'contentment': 173,\n",
              " 'if': 174,\n",
              " 'itself': 175,\n",
              " 'were': 176,\n",
              " 'exhaling': 177,\n",
              " 'after': 178,\n",
              " 'long': 179,\n",
              " 'conversation': 180,\n",
              " 'clinking': 181,\n",
              " 'cutlery': 182,\n",
              " 'created': 183,\n",
              " 'soft': 184,\n",
              " 'comforting': 185,\n",
              " 'background': 186,\n",
              " 'noise': 187,\n",
              " 'darkness': 188,\n",
              " 'crept': 189,\n",
              " 'stars': 190,\n",
              " 'appear': 191,\n",
              " 'twinkling': 192,\n",
              " 'clear': 193,\n",
              " 'moon': 194,\n",
              " 'rose': 195,\n",
              " 'high': 196,\n",
              " 'horizon': 197,\n",
              " 'casting': 198,\n",
              " 'silver': 199,\n",
              " 'across': 200,\n",
              " 'ocean’s': 201,\n",
              " 'surface': 202,\n",
              " 'making': 203,\n",
              " 'shimmer': 204,\n",
              " 'like': 205,\n",
              " 'glass': 206,\n",
              " 'cool': 207,\n",
              " 'it': 208,\n",
              " 'salty': 209,\n",
              " 'mixing': 210,\n",
              " 'earthy': 211,\n",
              " 'aroma': 212,\n",
              " 'nearby': 213,\n",
              " 'pine': 214,\n",
              " 'trees': 215,\n",
              " 'guitar': 216,\n",
              " 'strummed': 217,\n",
              " 'softly': 218,\n",
              " 'notes': 219,\n",
              " 'blending': 220,\n",
              " 'seamlessly': 221,\n",
              " 'time': 222,\n",
              " 'seemed': 223,\n",
              " 'slow': 224,\n",
              " 'deepened': 225,\n",
              " 'for': 226,\n",
              " 'moment': 227,\n",
              " 'world': 228,\n",
              " 'felt': 229,\n",
              " 'still': 230,\n",
              " 'people': 231,\n",
              " 'lingered': 232,\n",
              " 'tables': 233,\n",
              " 'reluctant': 234,\n",
              " 'let': 235,\n",
              " 'end': 236,\n",
              " 'savoring': 237,\n",
              " 'final': 238,\n",
              " 'moments': 239,\n",
              " 'soon': 240,\n",
              " 'quieted': 241,\n",
              " 'rest': 242,\n",
              " 'bathed': 243,\n",
              " 'glow': 244,\n",
              " 'moonlight': 245}"
            ]
          },
          "metadata": {},
          "execution_count": 5
        }
      ]
    },
    {
      "cell_type": "code",
      "source": [
        "for sent in sentences :\n",
        "  print( tokenizer.texts_to_sequences(sent)[0] )"
      ],
      "metadata": {
        "colab": {
          "base_uri": "https://localhost:8080/"
        },
        "id": "jApPkKI5JU11",
        "outputId": "71bf8c77-24ba-4098-cbd0-9090adc0429f"
      },
      "execution_count": 61,
      "outputs": [
        {
          "output_type": "stream",
          "name": "stdout",
          "text": [
            "[7, 1, 45, 46, 2, 1, 47, 48, 49, 1, 10, 5, 50, 2, 51, 3, 52]\n",
            "[1, 15, 53, 11, 16, 54, 6, 55]\n",
            "[59, 4, 60, 61, 6, 1, 62, 63]\n",
            "[8, 69, 70, 9, 1, 71, 72]\n",
            "[75, 3, 76, 5, 1, 77, 2, 78, 4, 79, 80]\n",
            "[1, 25, 2, 83, 84, 3, 85, 86, 87, 88, 89, 15]\n",
            "[90, 91, 92]\n",
            "[100, 101, 102, 2, 103, 3, 104, 2, 105]\n",
            "[8, 26, 27, 28, 1, 29, 7, 30, 109, 5, 3, 110, 2, 1, 111, 31]\n",
            "[117, 118, 1, 119, 120, 2, 1, 10, 121, 122, 123]\n",
            "[4, 125, 2, 126, 127, 128, 4, 129]\n",
            "[8, 130, 131, 3, 132, 7, 30, 133, 134, 3, 135, 136]\n",
            "[14, 141, 142, 143]\n",
            "[144, 145, 146, 6, 1, 147]\n",
            "[157, 4, 158, 159, 7, 1, 37, 160, 5]\n",
            "[164, 165, 6, 166, 1, 167, 168, 169, 4, 170]\n",
            "[7, 174, 1, 11, 175, 176, 177, 178, 4, 179, 39]\n",
            "[185, 186, 187]\n",
            "[1, 190, 13, 6, 191, 42, 28, 42]\n",
            "[192, 19, 1, 193, 10]\n",
            "[198, 14, 199, 36, 200, 1, 201, 202]\n",
            "[203, 1, 31, 204, 205, 206]\n",
            "[210, 9, 1, 211, 212, 2, 1, 213, 214, 215]\n",
            "[4, 216, 217, 218]\n",
            "[14, 219, 220, 221, 9, 1, 17, 2, 1, 18]\n",
            "[3, 226, 4, 227]\n",
            "[1, 228, 229, 230]\n",
            "[234, 6, 235, 1, 43, 236]\n",
            "[237, 1, 238, 239, 2, 1, 39]\n",
            "[1, 26, 241]\n",
            "[3, 1, 11, 13, 6, 242]\n",
            "[243, 5, 1, 244, 2, 1, 245, 3, 1, 40, 41, 2, 1, 44]\n"
          ]
        }
      ]
    },
    {
      "cell_type": "code",
      "source": [
        "input_sequences = []\n",
        "\n",
        "for sent in sentences :\n",
        "  tokens = tokenizer.texts_to_sequences(sent)[0]\n",
        "  for i in range (1,len(tokens)):\n",
        "    input_sequences.append(tokens[:i+1])"
      ],
      "metadata": {
        "id": "nuCCaIPOxkX_"
      },
      "execution_count": 11,
      "outputs": []
    },
    {
      "cell_type": "code",
      "source": [
        "input_sequences"
      ],
      "metadata": {
        "colab": {
          "base_uri": "https://localhost:8080/"
        },
        "id": "rBFi-8xkuwQx",
        "outputId": "6a498feb-b391-4768-dea2-cc40ce574e87"
      },
      "execution_count": 12,
      "outputs": [
        {
          "output_type": "execute_result",
          "data": {
            "text/plain": [
              "[[7, 1],\n",
              " [7, 1, 45],\n",
              " [7, 1, 45, 46],\n",
              " [7, 1, 45, 46, 2],\n",
              " [7, 1, 45, 46, 2, 1],\n",
              " [7, 1, 45, 46, 2, 1, 47],\n",
              " [7, 1, 45, 46, 2, 1, 47, 48],\n",
              " [7, 1, 45, 46, 2, 1, 47, 48, 49],\n",
              " [7, 1, 45, 46, 2, 1, 47, 48, 49, 1],\n",
              " [7, 1, 45, 46, 2, 1, 47, 48, 49, 1, 10],\n",
              " [7, 1, 45, 46, 2, 1, 47, 48, 49, 1, 10, 5],\n",
              " [7, 1, 45, 46, 2, 1, 47, 48, 49, 1, 10, 5, 50],\n",
              " [7, 1, 45, 46, 2, 1, 47, 48, 49, 1, 10, 5, 50, 2],\n",
              " [7, 1, 45, 46, 2, 1, 47, 48, 49, 1, 10, 5, 50, 2, 51],\n",
              " [7, 1, 45, 46, 2, 1, 47, 48, 49, 1, 10, 5, 50, 2, 51, 3],\n",
              " [7, 1, 45, 46, 2, 1, 47, 48, 49, 1, 10, 5, 50, 2, 51, 3, 52],\n",
              " [1, 15],\n",
              " [1, 15, 53],\n",
              " [1, 15, 53, 11],\n",
              " [1, 15, 53, 11, 16],\n",
              " [1, 15, 53, 11, 16, 54],\n",
              " [1, 15, 53, 11, 16, 54, 6],\n",
              " [1, 15, 53, 11, 16, 54, 6, 55],\n",
              " [59, 4],\n",
              " [59, 4, 60],\n",
              " [59, 4, 60, 61],\n",
              " [59, 4, 60, 61, 6],\n",
              " [59, 4, 60, 61, 6, 1],\n",
              " [59, 4, 60, 61, 6, 1, 62],\n",
              " [59, 4, 60, 61, 6, 1, 62, 63],\n",
              " [8, 69],\n",
              " [8, 69, 70],\n",
              " [8, 69, 70, 9],\n",
              " [8, 69, 70, 9, 1],\n",
              " [8, 69, 70, 9, 1, 71],\n",
              " [8, 69, 70, 9, 1, 71, 72],\n",
              " [75, 3],\n",
              " [75, 3, 76],\n",
              " [75, 3, 76, 5],\n",
              " [75, 3, 76, 5, 1],\n",
              " [75, 3, 76, 5, 1, 77],\n",
              " [75, 3, 76, 5, 1, 77, 2],\n",
              " [75, 3, 76, 5, 1, 77, 2, 78],\n",
              " [75, 3, 76, 5, 1, 77, 2, 78, 4],\n",
              " [75, 3, 76, 5, 1, 77, 2, 78, 4, 79],\n",
              " [75, 3, 76, 5, 1, 77, 2, 78, 4, 79, 80],\n",
              " [1, 25],\n",
              " [1, 25, 2],\n",
              " [1, 25, 2, 83],\n",
              " [1, 25, 2, 83, 84],\n",
              " [1, 25, 2, 83, 84, 3],\n",
              " [1, 25, 2, 83, 84, 3, 85],\n",
              " [1, 25, 2, 83, 84, 3, 85, 86],\n",
              " [1, 25, 2, 83, 84, 3, 85, 86, 87],\n",
              " [1, 25, 2, 83, 84, 3, 85, 86, 87, 88],\n",
              " [1, 25, 2, 83, 84, 3, 85, 86, 87, 88, 89],\n",
              " [1, 25, 2, 83, 84, 3, 85, 86, 87, 88, 89, 15],\n",
              " [90, 91],\n",
              " [90, 91, 92],\n",
              " [100, 101],\n",
              " [100, 101, 102],\n",
              " [100, 101, 102, 2],\n",
              " [100, 101, 102, 2, 103],\n",
              " [100, 101, 102, 2, 103, 3],\n",
              " [100, 101, 102, 2, 103, 3, 104],\n",
              " [100, 101, 102, 2, 103, 3, 104, 2],\n",
              " [100, 101, 102, 2, 103, 3, 104, 2, 105],\n",
              " [8, 26],\n",
              " [8, 26, 27],\n",
              " [8, 26, 27, 28],\n",
              " [8, 26, 27, 28, 1],\n",
              " [8, 26, 27, 28, 1, 29],\n",
              " [8, 26, 27, 28, 1, 29, 7],\n",
              " [8, 26, 27, 28, 1, 29, 7, 30],\n",
              " [8, 26, 27, 28, 1, 29, 7, 30, 109],\n",
              " [8, 26, 27, 28, 1, 29, 7, 30, 109, 5],\n",
              " [8, 26, 27, 28, 1, 29, 7, 30, 109, 5, 3],\n",
              " [8, 26, 27, 28, 1, 29, 7, 30, 109, 5, 3, 110],\n",
              " [8, 26, 27, 28, 1, 29, 7, 30, 109, 5, 3, 110, 2],\n",
              " [8, 26, 27, 28, 1, 29, 7, 30, 109, 5, 3, 110, 2, 1],\n",
              " [8, 26, 27, 28, 1, 29, 7, 30, 109, 5, 3, 110, 2, 1, 111],\n",
              " [8, 26, 27, 28, 1, 29, 7, 30, 109, 5, 3, 110, 2, 1, 111, 31],\n",
              " [117, 118],\n",
              " [117, 118, 1],\n",
              " [117, 118, 1, 119],\n",
              " [117, 118, 1, 119, 120],\n",
              " [117, 118, 1, 119, 120, 2],\n",
              " [117, 118, 1, 119, 120, 2, 1],\n",
              " [117, 118, 1, 119, 120, 2, 1, 10],\n",
              " [117, 118, 1, 119, 120, 2, 1, 10, 121],\n",
              " [117, 118, 1, 119, 120, 2, 1, 10, 121, 122],\n",
              " [117, 118, 1, 119, 120, 2, 1, 10, 121, 122, 123],\n",
              " [4, 125],\n",
              " [4, 125, 2],\n",
              " [4, 125, 2, 126],\n",
              " [4, 125, 2, 126, 127],\n",
              " [4, 125, 2, 126, 127, 128],\n",
              " [4, 125, 2, 126, 127, 128, 4],\n",
              " [4, 125, 2, 126, 127, 128, 4, 129],\n",
              " [8, 130],\n",
              " [8, 130, 131],\n",
              " [8, 130, 131, 3],\n",
              " [8, 130, 131, 3, 132],\n",
              " [8, 130, 131, 3, 132, 7],\n",
              " [8, 130, 131, 3, 132, 7, 30],\n",
              " [8, 130, 131, 3, 132, 7, 30, 133],\n",
              " [8, 130, 131, 3, 132, 7, 30, 133, 134],\n",
              " [8, 130, 131, 3, 132, 7, 30, 133, 134, 3],\n",
              " [8, 130, 131, 3, 132, 7, 30, 133, 134, 3, 135],\n",
              " [8, 130, 131, 3, 132, 7, 30, 133, 134, 3, 135, 136],\n",
              " [14, 141],\n",
              " [14, 141, 142],\n",
              " [14, 141, 142, 143],\n",
              " [144, 145],\n",
              " [144, 145, 146],\n",
              " [144, 145, 146, 6],\n",
              " [144, 145, 146, 6, 1],\n",
              " [144, 145, 146, 6, 1, 147],\n",
              " [157, 4],\n",
              " [157, 4, 158],\n",
              " [157, 4, 158, 159],\n",
              " [157, 4, 158, 159, 7],\n",
              " [157, 4, 158, 159, 7, 1],\n",
              " [157, 4, 158, 159, 7, 1, 37],\n",
              " [157, 4, 158, 159, 7, 1, 37, 160],\n",
              " [157, 4, 158, 159, 7, 1, 37, 160, 5],\n",
              " [164, 165],\n",
              " [164, 165, 6],\n",
              " [164, 165, 6, 166],\n",
              " [164, 165, 6, 166, 1],\n",
              " [164, 165, 6, 166, 1, 167],\n",
              " [164, 165, 6, 166, 1, 167, 168],\n",
              " [164, 165, 6, 166, 1, 167, 168, 169],\n",
              " [164, 165, 6, 166, 1, 167, 168, 169, 4],\n",
              " [164, 165, 6, 166, 1, 167, 168, 169, 4, 170],\n",
              " [7, 174],\n",
              " [7, 174, 1],\n",
              " [7, 174, 1, 11],\n",
              " [7, 174, 1, 11, 175],\n",
              " [7, 174, 1, 11, 175, 176],\n",
              " [7, 174, 1, 11, 175, 176, 177],\n",
              " [7, 174, 1, 11, 175, 176, 177, 178],\n",
              " [7, 174, 1, 11, 175, 176, 177, 178, 4],\n",
              " [7, 174, 1, 11, 175, 176, 177, 178, 4, 179],\n",
              " [7, 174, 1, 11, 175, 176, 177, 178, 4, 179, 39],\n",
              " [185, 186],\n",
              " [185, 186, 187],\n",
              " [1, 190],\n",
              " [1, 190, 13],\n",
              " [1, 190, 13, 6],\n",
              " [1, 190, 13, 6, 191],\n",
              " [1, 190, 13, 6, 191, 42],\n",
              " [1, 190, 13, 6, 191, 42, 28],\n",
              " [1, 190, 13, 6, 191, 42, 28, 42],\n",
              " [192, 19],\n",
              " [192, 19, 1],\n",
              " [192, 19, 1, 193],\n",
              " [192, 19, 1, 193, 10],\n",
              " [198, 14],\n",
              " [198, 14, 199],\n",
              " [198, 14, 199, 36],\n",
              " [198, 14, 199, 36, 200],\n",
              " [198, 14, 199, 36, 200, 1],\n",
              " [198, 14, 199, 36, 200, 1, 201],\n",
              " [198, 14, 199, 36, 200, 1, 201, 202],\n",
              " [203, 1],\n",
              " [203, 1, 31],\n",
              " [203, 1, 31, 204],\n",
              " [203, 1, 31, 204, 205],\n",
              " [203, 1, 31, 204, 205, 206],\n",
              " [210, 9],\n",
              " [210, 9, 1],\n",
              " [210, 9, 1, 211],\n",
              " [210, 9, 1, 211, 212],\n",
              " [210, 9, 1, 211, 212, 2],\n",
              " [210, 9, 1, 211, 212, 2, 1],\n",
              " [210, 9, 1, 211, 212, 2, 1, 213],\n",
              " [210, 9, 1, 211, 212, 2, 1, 213, 214],\n",
              " [210, 9, 1, 211, 212, 2, 1, 213, 214, 215],\n",
              " [4, 216],\n",
              " [4, 216, 217],\n",
              " [4, 216, 217, 218],\n",
              " [14, 219],\n",
              " [14, 219, 220],\n",
              " [14, 219, 220, 221],\n",
              " [14, 219, 220, 221, 9],\n",
              " [14, 219, 220, 221, 9, 1],\n",
              " [14, 219, 220, 221, 9, 1, 17],\n",
              " [14, 219, 220, 221, 9, 1, 17, 2],\n",
              " [14, 219, 220, 221, 9, 1, 17, 2, 1],\n",
              " [14, 219, 220, 221, 9, 1, 17, 2, 1, 18],\n",
              " [3, 226],\n",
              " [3, 226, 4],\n",
              " [3, 226, 4, 227],\n",
              " [1, 228],\n",
              " [1, 228, 229],\n",
              " [1, 228, 229, 230],\n",
              " [234, 6],\n",
              " [234, 6, 235],\n",
              " [234, 6, 235, 1],\n",
              " [234, 6, 235, 1, 43],\n",
              " [234, 6, 235, 1, 43, 236],\n",
              " [237, 1],\n",
              " [237, 1, 238],\n",
              " [237, 1, 238, 239],\n",
              " [237, 1, 238, 239, 2],\n",
              " [237, 1, 238, 239, 2, 1],\n",
              " [237, 1, 238, 239, 2, 1, 39],\n",
              " [1, 26],\n",
              " [1, 26, 241],\n",
              " [3, 1],\n",
              " [3, 1, 11],\n",
              " [3, 1, 11, 13],\n",
              " [3, 1, 11, 13, 6],\n",
              " [3, 1, 11, 13, 6, 242],\n",
              " [243, 5],\n",
              " [243, 5, 1],\n",
              " [243, 5, 1, 244],\n",
              " [243, 5, 1, 244, 2],\n",
              " [243, 5, 1, 244, 2, 1],\n",
              " [243, 5, 1, 244, 2, 1, 245],\n",
              " [243, 5, 1, 244, 2, 1, 245, 3],\n",
              " [243, 5, 1, 244, 2, 1, 245, 3, 1],\n",
              " [243, 5, 1, 244, 2, 1, 245, 3, 1, 40],\n",
              " [243, 5, 1, 244, 2, 1, 245, 3, 1, 40, 41],\n",
              " [243, 5, 1, 244, 2, 1, 245, 3, 1, 40, 41, 2],\n",
              " [243, 5, 1, 244, 2, 1, 245, 3, 1, 40, 41, 2, 1],\n",
              " [243, 5, 1, 244, 2, 1, 245, 3, 1, 40, 41, 2, 1, 44]]"
            ]
          },
          "metadata": {},
          "execution_count": 12
        }
      ]
    },
    {
      "cell_type": "code",
      "source": [
        "mx_len = max([len(x) for x in input_sequences])\n",
        "mx_len"
      ],
      "metadata": {
        "colab": {
          "base_uri": "https://localhost:8080/"
        },
        "id": "FEtmQEQ_u-UH",
        "outputId": "e505357a-536a-418f-dc72-cd6b7b280ed2"
      },
      "execution_count": 62,
      "outputs": [
        {
          "output_type": "execute_result",
          "data": {
            "text/plain": [
              "17"
            ]
          },
          "metadata": {},
          "execution_count": 62
        }
      ]
    },
    {
      "cell_type": "code",
      "source": [
        "from tensorflow.keras.preprocessing.sequence import pad_sequences"
      ],
      "metadata": {
        "id": "MMbU4to8yd9N"
      },
      "execution_count": 63,
      "outputs": []
    },
    {
      "cell_type": "code",
      "source": [
        "padded_tokens = pad_sequences(input_sequences, padding='pre',maxlen = 17 )\n",
        "padded_tokens"
      ],
      "metadata": {
        "id": "-mXpjGHZ0Cm3",
        "colab": {
          "base_uri": "https://localhost:8080/"
        },
        "outputId": "b934cde1-e669-4232-c434-5397f3379d1e"
      },
      "execution_count": 64,
      "outputs": [
        {
          "output_type": "execute_result",
          "data": {
            "text/plain": [
              "array([[ 0,  0,  0, ...,  0,  7,  1],\n",
              "       [ 0,  0,  0, ...,  7,  1, 45],\n",
              "       [ 0,  0,  0, ...,  1, 45, 46],\n",
              "       ...,\n",
              "       [ 0,  0,  0, ..., 40, 41,  2],\n",
              "       [ 0,  0,  0, ..., 41,  2,  1],\n",
              "       [ 0,  0,  0, ...,  2,  1, 44]], dtype=int32)"
            ]
          },
          "metadata": {},
          "execution_count": 64
        }
      ]
    },
    {
      "cell_type": "code",
      "source": [
        "X = padded_tokens[:,:-1]\n",
        "y = padded_tokens[:,-1]"
      ],
      "metadata": {
        "id": "552pCWeks58j"
      },
      "execution_count": 65,
      "outputs": []
    },
    {
      "cell_type": "code",
      "source": [
        "print(X)"
      ],
      "metadata": {
        "colab": {
          "base_uri": "https://localhost:8080/"
        },
        "id": "3Cd650Mpv0d4",
        "outputId": "b4733270-29d5-4a2f-bbff-e06aac5328bf"
      },
      "execution_count": 66,
      "outputs": [
        {
          "output_type": "stream",
          "name": "stdout",
          "text": [
            "[[ 0  0  0 ...  0  0  7]\n",
            " [ 0  0  0 ...  0  7  1]\n",
            " [ 0  0  0 ...  7  1 45]\n",
            " ...\n",
            " [ 0  0  0 ...  1 40 41]\n",
            " [ 0  0  0 ... 40 41  2]\n",
            " [ 0  0  0 ... 41  2  1]]\n"
          ]
        }
      ]
    },
    {
      "cell_type": "code",
      "source": [
        "print(y)"
      ],
      "metadata": {
        "colab": {
          "base_uri": "https://localhost:8080/"
        },
        "id": "es23fXnswMVE",
        "outputId": "0120f43d-0c09-4b0f-bb00-2edc74def0ea"
      },
      "execution_count": 67,
      "outputs": [
        {
          "output_type": "stream",
          "name": "stdout",
          "text": [
            "[  1  45  46   2   1  47  48  49   1  10   5  50   2  51   3  52  15  53\n",
            "  11  16  54   6  55   4  60  61   6   1  62  63  69  70   9   1  71  72\n",
            "   3  76   5   1  77   2  78   4  79  80  25   2  83  84   3  85  86  87\n",
            "  88  89  15  91  92 101 102   2 103   3 104   2 105  26  27  28   1  29\n",
            "   7  30 109   5   3 110   2   1 111  31 118   1 119 120   2   1  10 121\n",
            " 122 123 125   2 126 127 128   4 129 130 131   3 132   7  30 133 134   3\n",
            " 135 136 141 142 143 145 146   6   1 147   4 158 159   7   1  37 160   5\n",
            " 165   6 166   1 167 168 169   4 170 174   1  11 175 176 177 178   4 179\n",
            "  39 186 187 190  13   6 191  42  28  42  19   1 193  10  14 199  36 200\n",
            "   1 201 202   1  31 204 205 206   9   1 211 212   2   1 213 214 215 216\n",
            " 217 218 219 220 221   9   1  17   2   1  18 226   4 227 228 229 230   6\n",
            " 235   1  43 236   1 238 239   2   1  39  26 241   1  11  13   6 242   5\n",
            "   1 244   2   1 245   3   1  40  41   2   1  44]\n"
          ]
        }
      ]
    },
    {
      "cell_type": "code",
      "source": [
        "from tensorflow.keras.utils import to_categorical"
      ],
      "metadata": {
        "id": "9dce1sy4wP0Z"
      },
      "execution_count": 68,
      "outputs": []
    },
    {
      "cell_type": "code",
      "source": [
        "Y = to_categorical(y,num_classes=246)"
      ],
      "metadata": {
        "id": "91setpKf-89f"
      },
      "execution_count": 69,
      "outputs": []
    },
    {
      "cell_type": "code",
      "source": [
        "Y"
      ],
      "metadata": {
        "colab": {
          "base_uri": "https://localhost:8080/"
        },
        "id": "usg_M8qz_KYE",
        "outputId": "a31982d2-6e44-4b91-9c53-94134cfe4693"
      },
      "execution_count": 70,
      "outputs": [
        {
          "output_type": "execute_result",
          "data": {
            "text/plain": [
              "array([[0., 1., 0., ..., 0., 0., 0.],\n",
              "       [0., 0., 0., ..., 0., 0., 0.],\n",
              "       [0., 0., 0., ..., 0., 0., 0.],\n",
              "       ...,\n",
              "       [0., 0., 1., ..., 0., 0., 0.],\n",
              "       [0., 1., 0., ..., 0., 0., 0.],\n",
              "       [0., 0., 0., ..., 0., 0., 0.]])"
            ]
          },
          "metadata": {},
          "execution_count": 70
        }
      ]
    },
    {
      "cell_type": "code",
      "source": [
        "from tensorflow.keras.models import Sequential\n",
        "from tensorflow.keras.layers import Embedding,LSTM,Dense"
      ],
      "metadata": {
        "id": "uPeKS9Sp_Vxy"
      },
      "execution_count": 26,
      "outputs": []
    },
    {
      "cell_type": "code",
      "source": [
        "model = Sequential()\n",
        "model.add(Embedding(246,100,input_length=17))\n",
        "model.add(LSTM(150))\n",
        "model.add(Dense(246,activation='softmax'))\n",
        "model.build((None, 17))"
      ],
      "metadata": {
        "id": "dHIIHLUZ_yzl"
      },
      "execution_count": 72,
      "outputs": []
    },
    {
      "cell_type": "code",
      "source": [
        "model.compile(loss='categorical_crossentropy',optimizer='adam',metrics=['accuracy'])"
      ],
      "metadata": {
        "id": "G7mntQHh_0im"
      },
      "execution_count": 73,
      "outputs": []
    },
    {
      "cell_type": "code",
      "source": [
        "model.summary()"
      ],
      "metadata": {
        "colab": {
          "base_uri": "https://localhost:8080/",
          "height": 225
        },
        "id": "GHpxRTOFA_B3",
        "outputId": "0e23647a-fb94-45f4-8b1d-54e89b6973dd"
      },
      "execution_count": 74,
      "outputs": [
        {
          "output_type": "display_data",
          "data": {
            "text/plain": [
              "\u001b[1mModel: \"sequential_4\"\u001b[0m\n"
            ],
            "text/html": [
              "<pre style=\"white-space:pre;overflow-x:auto;line-height:normal;font-family:Menlo,'DejaVu Sans Mono',consolas,'Courier New',monospace\"><span style=\"font-weight: bold\">Model: \"sequential_4\"</span>\n",
              "</pre>\n"
            ]
          },
          "metadata": {}
        },
        {
          "output_type": "display_data",
          "data": {
            "text/plain": [
              "┏━━━━━━━━━━━━━━━━━━━━━━━━━━━━━━━━━━━━━━┳━━━━━━━━━━━━━━━━━━━━━━━━━━━━━┳━━━━━━━━━━━━━━━━━┓\n",
              "┃\u001b[1m \u001b[0m\u001b[1mLayer (type)                        \u001b[0m\u001b[1m \u001b[0m┃\u001b[1m \u001b[0m\u001b[1mOutput Shape               \u001b[0m\u001b[1m \u001b[0m┃\u001b[1m \u001b[0m\u001b[1m        Param #\u001b[0m\u001b[1m \u001b[0m┃\n",
              "┡━━━━━━━━━━━━━━━━━━━━━━━━━━━━━━━━━━━━━━╇━━━━━━━━━━━━━━━━━━━━━━━━━━━━━╇━━━━━━━━━━━━━━━━━┩\n",
              "│ embedding_4 (\u001b[38;5;33mEmbedding\u001b[0m)              │ (\u001b[38;5;45mNone\u001b[0m, \u001b[38;5;34m17\u001b[0m, \u001b[38;5;34m100\u001b[0m)             │          \u001b[38;5;34m24,600\u001b[0m │\n",
              "├──────────────────────────────────────┼─────────────────────────────┼─────────────────┤\n",
              "│ lstm_4 (\u001b[38;5;33mLSTM\u001b[0m)                        │ (\u001b[38;5;45mNone\u001b[0m, \u001b[38;5;34m150\u001b[0m)                 │         \u001b[38;5;34m150,600\u001b[0m │\n",
              "├──────────────────────────────────────┼─────────────────────────────┼─────────────────┤\n",
              "│ dense_4 (\u001b[38;5;33mDense\u001b[0m)                      │ (\u001b[38;5;45mNone\u001b[0m, \u001b[38;5;34m246\u001b[0m)                 │          \u001b[38;5;34m37,146\u001b[0m │\n",
              "└──────────────────────────────────────┴─────────────────────────────┴─────────────────┘\n"
            ],
            "text/html": [
              "<pre style=\"white-space:pre;overflow-x:auto;line-height:normal;font-family:Menlo,'DejaVu Sans Mono',consolas,'Courier New',monospace\">┏━━━━━━━━━━━━━━━━━━━━━━━━━━━━━━━━━━━━━━┳━━━━━━━━━━━━━━━━━━━━━━━━━━━━━┳━━━━━━━━━━━━━━━━━┓\n",
              "┃<span style=\"font-weight: bold\"> Layer (type)                         </span>┃<span style=\"font-weight: bold\"> Output Shape                </span>┃<span style=\"font-weight: bold\">         Param # </span>┃\n",
              "┡━━━━━━━━━━━━━━━━━━━━━━━━━━━━━━━━━━━━━━╇━━━━━━━━━━━━━━━━━━━━━━━━━━━━━╇━━━━━━━━━━━━━━━━━┩\n",
              "│ embedding_4 (<span style=\"color: #0087ff; text-decoration-color: #0087ff\">Embedding</span>)              │ (<span style=\"color: #00d7ff; text-decoration-color: #00d7ff\">None</span>, <span style=\"color: #00af00; text-decoration-color: #00af00\">17</span>, <span style=\"color: #00af00; text-decoration-color: #00af00\">100</span>)             │          <span style=\"color: #00af00; text-decoration-color: #00af00\">24,600</span> │\n",
              "├──────────────────────────────────────┼─────────────────────────────┼─────────────────┤\n",
              "│ lstm_4 (<span style=\"color: #0087ff; text-decoration-color: #0087ff\">LSTM</span>)                        │ (<span style=\"color: #00d7ff; text-decoration-color: #00d7ff\">None</span>, <span style=\"color: #00af00; text-decoration-color: #00af00\">150</span>)                 │         <span style=\"color: #00af00; text-decoration-color: #00af00\">150,600</span> │\n",
              "├──────────────────────────────────────┼─────────────────────────────┼─────────────────┤\n",
              "│ dense_4 (<span style=\"color: #0087ff; text-decoration-color: #0087ff\">Dense</span>)                      │ (<span style=\"color: #00d7ff; text-decoration-color: #00d7ff\">None</span>, <span style=\"color: #00af00; text-decoration-color: #00af00\">246</span>)                 │          <span style=\"color: #00af00; text-decoration-color: #00af00\">37,146</span> │\n",
              "└──────────────────────────────────────┴─────────────────────────────┴─────────────────┘\n",
              "</pre>\n"
            ]
          },
          "metadata": {}
        },
        {
          "output_type": "display_data",
          "data": {
            "text/plain": [
              "\u001b[1m Total params: \u001b[0m\u001b[38;5;34m212,346\u001b[0m (829.48 KB)\n"
            ],
            "text/html": [
              "<pre style=\"white-space:pre;overflow-x:auto;line-height:normal;font-family:Menlo,'DejaVu Sans Mono',consolas,'Courier New',monospace\"><span style=\"font-weight: bold\"> Total params: </span><span style=\"color: #00af00; text-decoration-color: #00af00\">212,346</span> (829.48 KB)\n",
              "</pre>\n"
            ]
          },
          "metadata": {}
        },
        {
          "output_type": "display_data",
          "data": {
            "text/plain": [
              "\u001b[1m Trainable params: \u001b[0m\u001b[38;5;34m212,346\u001b[0m (829.48 KB)\n"
            ],
            "text/html": [
              "<pre style=\"white-space:pre;overflow-x:auto;line-height:normal;font-family:Menlo,'DejaVu Sans Mono',consolas,'Courier New',monospace\"><span style=\"font-weight: bold\"> Trainable params: </span><span style=\"color: #00af00; text-decoration-color: #00af00\">212,346</span> (829.48 KB)\n",
              "</pre>\n"
            ]
          },
          "metadata": {}
        },
        {
          "output_type": "display_data",
          "data": {
            "text/plain": [
              "\u001b[1m Non-trainable params: \u001b[0m\u001b[38;5;34m0\u001b[0m (0.00 B)\n"
            ],
            "text/html": [
              "<pre style=\"white-space:pre;overflow-x:auto;line-height:normal;font-family:Menlo,'DejaVu Sans Mono',consolas,'Courier New',monospace\"><span style=\"font-weight: bold\"> Non-trainable params: </span><span style=\"color: #00af00; text-decoration-color: #00af00\">0</span> (0.00 B)\n",
              "</pre>\n"
            ]
          },
          "metadata": {}
        }
      ]
    },
    {
      "cell_type": "code",
      "source": [
        "history = model.fit(X,Y,epochs=100)"
      ],
      "metadata": {
        "colab": {
          "base_uri": "https://localhost:8080/"
        },
        "id": "pejbLRQJANHr",
        "outputId": "ccb247ee-5d67-402d-a5e0-d61b63eebfa9"
      },
      "execution_count": 75,
      "outputs": [
        {
          "output_type": "stream",
          "name": "stdout",
          "text": [
            "Epoch 1/100\n",
            "\u001b[1m8/8\u001b[0m \u001b[32m━━━━━━━━━━━━━━━━━━━━\u001b[0m\u001b[37m\u001b[0m \u001b[1m2s\u001b[0m 25ms/step - accuracy: 0.0535 - loss: 5.5004\n",
            "Epoch 2/100\n",
            "\u001b[1m8/8\u001b[0m \u001b[32m━━━━━━━━━━━━━━━━━━━━\u001b[0m\u001b[37m\u001b[0m \u001b[1m0s\u001b[0m 26ms/step - accuracy: 0.1118 - loss: 5.3713\n",
            "Epoch 3/100\n",
            "\u001b[1m8/8\u001b[0m \u001b[32m━━━━━━━━━━━━━━━━━━━━\u001b[0m\u001b[37m\u001b[0m \u001b[1m0s\u001b[0m 28ms/step - accuracy: 0.1532 - loss: 4.8254\n",
            "Epoch 4/100\n",
            "\u001b[1m8/8\u001b[0m \u001b[32m━━━━━━━━━━━━━━━━━━━━\u001b[0m\u001b[37m\u001b[0m \u001b[1m0s\u001b[0m 28ms/step - accuracy: 0.1253 - loss: 4.5999\n",
            "Epoch 5/100\n",
            "\u001b[1m8/8\u001b[0m \u001b[32m━━━━━━━━━━━━━━━━━━━━\u001b[0m\u001b[37m\u001b[0m \u001b[1m0s\u001b[0m 25ms/step - accuracy: 0.0905 - loss: 4.6815\n",
            "Epoch 6/100\n",
            "\u001b[1m8/8\u001b[0m \u001b[32m━━━━━━━━━━━━━━━━━━━━\u001b[0m\u001b[37m\u001b[0m \u001b[1m0s\u001b[0m 26ms/step - accuracy: 0.1293 - loss: 4.5613\n",
            "Epoch 7/100\n",
            "\u001b[1m8/8\u001b[0m \u001b[32m━━━━━━━━━━━━━━━━━━━━\u001b[0m\u001b[37m\u001b[0m \u001b[1m0s\u001b[0m 30ms/step - accuracy: 0.1506 - loss: 4.4291\n",
            "Epoch 8/100\n",
            "\u001b[1m8/8\u001b[0m \u001b[32m━━━━━━━━━━━━━━━━━━━━\u001b[0m\u001b[37m\u001b[0m \u001b[1m0s\u001b[0m 25ms/step - accuracy: 0.1449 - loss: 4.4558\n",
            "Epoch 9/100\n",
            "\u001b[1m8/8\u001b[0m \u001b[32m━━━━━━━━━━━━━━━━━━━━\u001b[0m\u001b[37m\u001b[0m \u001b[1m0s\u001b[0m 27ms/step - accuracy: 0.0997 - loss: 4.5298\n",
            "Epoch 10/100\n",
            "\u001b[1m8/8\u001b[0m \u001b[32m━━━━━━━━━━━━━━━━━━━━\u001b[0m\u001b[37m\u001b[0m \u001b[1m0s\u001b[0m 27ms/step - accuracy: 0.1341 - loss: 4.4297\n",
            "Epoch 11/100\n",
            "\u001b[1m8/8\u001b[0m \u001b[32m━━━━━━━━━━━━━━━━━━━━\u001b[0m\u001b[37m\u001b[0m \u001b[1m0s\u001b[0m 27ms/step - accuracy: 0.1545 - loss: 4.3502\n",
            "Epoch 12/100\n",
            "\u001b[1m8/8\u001b[0m \u001b[32m━━━━━━━━━━━━━━━━━━━━\u001b[0m\u001b[37m\u001b[0m \u001b[1m0s\u001b[0m 26ms/step - accuracy: 0.1342 - loss: 4.3716\n",
            "Epoch 13/100\n",
            "\u001b[1m8/8\u001b[0m \u001b[32m━━━━━━━━━━━━━━━━━━━━\u001b[0m\u001b[37m\u001b[0m \u001b[1m0s\u001b[0m 28ms/step - accuracy: 0.1127 - loss: 4.4375\n",
            "Epoch 14/100\n",
            "\u001b[1m8/8\u001b[0m \u001b[32m━━━━━━━━━━━━━━━━━━━━\u001b[0m\u001b[37m\u001b[0m \u001b[1m0s\u001b[0m 29ms/step - accuracy: 0.1210 - loss: 4.3960\n",
            "Epoch 15/100\n",
            "\u001b[1m8/8\u001b[0m \u001b[32m━━━━━━━━━━━━━━━━━━━━\u001b[0m\u001b[37m\u001b[0m \u001b[1m0s\u001b[0m 26ms/step - accuracy: 0.1189 - loss: 4.3599\n",
            "Epoch 16/100\n",
            "\u001b[1m8/8\u001b[0m \u001b[32m━━━━━━━━━━━━━━━━━━━━\u001b[0m\u001b[37m\u001b[0m \u001b[1m0s\u001b[0m 26ms/step - accuracy: 0.1366 - loss: 4.2061\n",
            "Epoch 17/100\n",
            "\u001b[1m8/8\u001b[0m \u001b[32m━━━━━━━━━━━━━━━━━━━━\u001b[0m\u001b[37m\u001b[0m \u001b[1m0s\u001b[0m 26ms/step - accuracy: 0.1465 - loss: 4.1919\n",
            "Epoch 18/100\n",
            "\u001b[1m8/8\u001b[0m \u001b[32m━━━━━━━━━━━━━━━━━━━━\u001b[0m\u001b[37m\u001b[0m \u001b[1m0s\u001b[0m 29ms/step - accuracy: 0.1460 - loss: 4.1459\n",
            "Epoch 19/100\n",
            "\u001b[1m8/8\u001b[0m \u001b[32m━━━━━━━━━━━━━━━━━━━━\u001b[0m\u001b[37m\u001b[0m \u001b[1m0s\u001b[0m 28ms/step - accuracy: 0.1465 - loss: 4.0563\n",
            "Epoch 20/100\n",
            "\u001b[1m8/8\u001b[0m \u001b[32m━━━━━━━━━━━━━━━━━━━━\u001b[0m\u001b[37m\u001b[0m \u001b[1m0s\u001b[0m 50ms/step - accuracy: 0.1676 - loss: 3.9814\n",
            "Epoch 21/100\n",
            "\u001b[1m8/8\u001b[0m \u001b[32m━━━━━━━━━━━━━━━━━━━━\u001b[0m\u001b[37m\u001b[0m \u001b[1m1s\u001b[0m 52ms/step - accuracy: 0.1485 - loss: 4.0462\n",
            "Epoch 22/100\n",
            "\u001b[1m8/8\u001b[0m \u001b[32m━━━━━━━━━━━━━━━━━━━━\u001b[0m\u001b[37m\u001b[0m \u001b[1m0s\u001b[0m 54ms/step - accuracy: 0.1537 - loss: 3.9425\n",
            "Epoch 23/100\n",
            "\u001b[1m8/8\u001b[0m \u001b[32m━━━━━━━━━━━━━━━━━━━━\u001b[0m\u001b[37m\u001b[0m \u001b[1m0s\u001b[0m 48ms/step - accuracy: 0.2210 - loss: 3.7087\n",
            "Epoch 24/100\n",
            "\u001b[1m8/8\u001b[0m \u001b[32m━━━━━━━━━━━━━━━━━━━━\u001b[0m\u001b[37m\u001b[0m \u001b[1m0s\u001b[0m 49ms/step - accuracy: 0.1488 - loss: 3.8780\n",
            "Epoch 25/100\n",
            "\u001b[1m8/8\u001b[0m \u001b[32m━━━━━━━━━━━━━━━━━━━━\u001b[0m\u001b[37m\u001b[0m \u001b[1m1s\u001b[0m 37ms/step - accuracy: 0.1872 - loss: 3.6783\n",
            "Epoch 26/100\n",
            "\u001b[1m8/8\u001b[0m \u001b[32m━━━━━━━━━━━━━━━━━━━━\u001b[0m\u001b[37m\u001b[0m \u001b[1m0s\u001b[0m 28ms/step - accuracy: 0.1952 - loss: 3.6160\n",
            "Epoch 27/100\n",
            "\u001b[1m8/8\u001b[0m \u001b[32m━━━━━━━━━━━━━━━━━━━━\u001b[0m\u001b[37m\u001b[0m \u001b[1m0s\u001b[0m 26ms/step - accuracy: 0.1988 - loss: 3.5779\n",
            "Epoch 28/100\n",
            "\u001b[1m8/8\u001b[0m \u001b[32m━━━━━━━━━━━━━━━━━━━━\u001b[0m\u001b[37m\u001b[0m \u001b[1m0s\u001b[0m 30ms/step - accuracy: 0.2768 - loss: 3.4669\n",
            "Epoch 29/100\n",
            "\u001b[1m8/8\u001b[0m \u001b[32m━━━━━━━━━━━━━━━━━━━━\u001b[0m\u001b[37m\u001b[0m \u001b[1m0s\u001b[0m 27ms/step - accuracy: 0.2546 - loss: 3.4442\n",
            "Epoch 30/100\n",
            "\u001b[1m8/8\u001b[0m \u001b[32m━━━━━━━━━━━━━━━━━━━━\u001b[0m\u001b[37m\u001b[0m \u001b[1m0s\u001b[0m 29ms/step - accuracy: 0.2067 - loss: 3.4234\n",
            "Epoch 31/100\n",
            "\u001b[1m8/8\u001b[0m \u001b[32m━━━━━━━━━━━━━━━━━━━━\u001b[0m\u001b[37m\u001b[0m \u001b[1m0s\u001b[0m 27ms/step - accuracy: 0.2565 - loss: 3.2556\n",
            "Epoch 32/100\n",
            "\u001b[1m8/8\u001b[0m \u001b[32m━━━━━━━━━━━━━━━━━━━━\u001b[0m\u001b[37m\u001b[0m \u001b[1m0s\u001b[0m 26ms/step - accuracy: 0.2641 - loss: 3.2816\n",
            "Epoch 33/100\n",
            "\u001b[1m8/8\u001b[0m \u001b[32m━━━━━━━━━━━━━━━━━━━━\u001b[0m\u001b[37m\u001b[0m \u001b[1m0s\u001b[0m 25ms/step - accuracy: 0.2732 - loss: 3.1903\n",
            "Epoch 34/100\n",
            "\u001b[1m8/8\u001b[0m \u001b[32m━━━━━━━━━━━━━━━━━━━━\u001b[0m\u001b[37m\u001b[0m \u001b[1m0s\u001b[0m 25ms/step - accuracy: 0.2673 - loss: 3.1641\n",
            "Epoch 35/100\n",
            "\u001b[1m8/8\u001b[0m \u001b[32m━━━━━━━━━━━━━━━━━━━━\u001b[0m\u001b[37m\u001b[0m \u001b[1m0s\u001b[0m 28ms/step - accuracy: 0.2501 - loss: 3.1443\n",
            "Epoch 36/100\n",
            "\u001b[1m8/8\u001b[0m \u001b[32m━━━━━━━━━━━━━━━━━━━━\u001b[0m\u001b[37m\u001b[0m \u001b[1m0s\u001b[0m 26ms/step - accuracy: 0.3079 - loss: 2.9043\n",
            "Epoch 37/100\n",
            "\u001b[1m8/8\u001b[0m \u001b[32m━━━━━━━━━━━━━━━━━━━━\u001b[0m\u001b[37m\u001b[0m \u001b[1m0s\u001b[0m 28ms/step - accuracy: 0.2980 - loss: 2.9597\n",
            "Epoch 38/100\n",
            "\u001b[1m8/8\u001b[0m \u001b[32m━━━━━━━━━━━━━━━━━━━━\u001b[0m\u001b[37m\u001b[0m \u001b[1m0s\u001b[0m 26ms/step - accuracy: 0.2784 - loss: 2.9162\n",
            "Epoch 39/100\n",
            "\u001b[1m8/8\u001b[0m \u001b[32m━━━━━━━━━━━━━━━━━━━━\u001b[0m\u001b[37m\u001b[0m \u001b[1m0s\u001b[0m 30ms/step - accuracy: 0.3200 - loss: 2.8106\n",
            "Epoch 40/100\n",
            "\u001b[1m8/8\u001b[0m \u001b[32m━━━━━━━━━━━━━━━━━━━━\u001b[0m\u001b[37m\u001b[0m \u001b[1m0s\u001b[0m 25ms/step - accuracy: 0.3750 - loss: 2.7415\n",
            "Epoch 41/100\n",
            "\u001b[1m8/8\u001b[0m \u001b[32m━━━━━━━━━━━━━━━━━━━━\u001b[0m\u001b[37m\u001b[0m \u001b[1m0s\u001b[0m 27ms/step - accuracy: 0.4063 - loss: 2.6380\n",
            "Epoch 42/100\n",
            "\u001b[1m8/8\u001b[0m \u001b[32m━━━━━━━━━━━━━━━━━━━━\u001b[0m\u001b[37m\u001b[0m \u001b[1m0s\u001b[0m 29ms/step - accuracy: 0.3860 - loss: 2.6521\n",
            "Epoch 43/100\n",
            "\u001b[1m8/8\u001b[0m \u001b[32m━━━━━━━━━━━━━━━━━━━━\u001b[0m\u001b[37m\u001b[0m \u001b[1m0s\u001b[0m 26ms/step - accuracy: 0.4093 - loss: 2.5344\n",
            "Epoch 44/100\n",
            "\u001b[1m8/8\u001b[0m \u001b[32m━━━━━━━━━━━━━━━━━━━━\u001b[0m\u001b[37m\u001b[0m \u001b[1m0s\u001b[0m 26ms/step - accuracy: 0.4289 - loss: 2.4803\n",
            "Epoch 45/100\n",
            "\u001b[1m8/8\u001b[0m \u001b[32m━━━━━━━━━━━━━━━━━━━━\u001b[0m\u001b[37m\u001b[0m \u001b[1m0s\u001b[0m 27ms/step - accuracy: 0.4294 - loss: 2.4393\n",
            "Epoch 46/100\n",
            "\u001b[1m8/8\u001b[0m \u001b[32m━━━━━━━━━━━━━━━━━━━━\u001b[0m\u001b[37m\u001b[0m \u001b[1m0s\u001b[0m 28ms/step - accuracy: 0.5021 - loss: 2.3299\n",
            "Epoch 47/100\n",
            "\u001b[1m8/8\u001b[0m \u001b[32m━━━━━━━━━━━━━━━━━━━━\u001b[0m\u001b[37m\u001b[0m \u001b[1m0s\u001b[0m 25ms/step - accuracy: 0.5141 - loss: 2.1649\n",
            "Epoch 48/100\n",
            "\u001b[1m8/8\u001b[0m \u001b[32m━━━━━━━━━━━━━━━━━━━━\u001b[0m\u001b[37m\u001b[0m \u001b[1m0s\u001b[0m 30ms/step - accuracy: 0.4750 - loss: 2.2138\n",
            "Epoch 49/100\n",
            "\u001b[1m8/8\u001b[0m \u001b[32m━━━━━━━━━━━━━━━━━━━━\u001b[0m\u001b[37m\u001b[0m \u001b[1m0s\u001b[0m 27ms/step - accuracy: 0.5406 - loss: 2.0712\n",
            "Epoch 50/100\n",
            "\u001b[1m8/8\u001b[0m \u001b[32m━━━━━━━━━━━━━━━━━━━━\u001b[0m\u001b[37m\u001b[0m \u001b[1m0s\u001b[0m 28ms/step - accuracy: 0.5461 - loss: 2.0729\n",
            "Epoch 51/100\n",
            "\u001b[1m8/8\u001b[0m \u001b[32m━━━━━━━━━━━━━━━━━━━━\u001b[0m\u001b[37m\u001b[0m \u001b[1m0s\u001b[0m 26ms/step - accuracy: 0.5796 - loss: 2.0732\n",
            "Epoch 52/100\n",
            "\u001b[1m8/8\u001b[0m \u001b[32m━━━━━━━━━━━━━━━━━━━━\u001b[0m\u001b[37m\u001b[0m \u001b[1m0s\u001b[0m 30ms/step - accuracy: 0.5711 - loss: 1.9718\n",
            "Epoch 53/100\n",
            "\u001b[1m8/8\u001b[0m \u001b[32m━━━━━━━━━━━━━━━━━━━━\u001b[0m\u001b[37m\u001b[0m \u001b[1m0s\u001b[0m 28ms/step - accuracy: 0.5933 - loss: 1.9428\n",
            "Epoch 54/100\n",
            "\u001b[1m8/8\u001b[0m \u001b[32m━━━━━━━━━━━━━━━━━━━━\u001b[0m\u001b[37m\u001b[0m \u001b[1m0s\u001b[0m 28ms/step - accuracy: 0.5925 - loss: 1.8306\n",
            "Epoch 55/100\n",
            "\u001b[1m8/8\u001b[0m \u001b[32m━━━━━━━━━━━━━━━━━━━━\u001b[0m\u001b[37m\u001b[0m \u001b[1m0s\u001b[0m 26ms/step - accuracy: 0.6627 - loss: 1.8074\n",
            "Epoch 56/100\n",
            "\u001b[1m8/8\u001b[0m \u001b[32m━━━━━━━━━━━━━━━━━━━━\u001b[0m\u001b[37m\u001b[0m \u001b[1m0s\u001b[0m 28ms/step - accuracy: 0.6301 - loss: 1.8700\n",
            "Epoch 57/100\n",
            "\u001b[1m8/8\u001b[0m \u001b[32m━━━━━━━━━━━━━━━━━━━━\u001b[0m\u001b[37m\u001b[0m \u001b[1m0s\u001b[0m 30ms/step - accuracy: 0.6969 - loss: 1.6349\n",
            "Epoch 58/100\n",
            "\u001b[1m8/8\u001b[0m \u001b[32m━━━━━━━━━━━━━━━━━━━━\u001b[0m\u001b[37m\u001b[0m \u001b[1m0s\u001b[0m 26ms/step - accuracy: 0.7058 - loss: 1.6414\n",
            "Epoch 59/100\n",
            "\u001b[1m8/8\u001b[0m \u001b[32m━━━━━━━━━━━━━━━━━━━━\u001b[0m\u001b[37m\u001b[0m \u001b[1m0s\u001b[0m 26ms/step - accuracy: 0.7612 - loss: 1.5195\n",
            "Epoch 60/100\n",
            "\u001b[1m8/8\u001b[0m \u001b[32m━━━━━━━━━━━━━━━━━━━━\u001b[0m\u001b[37m\u001b[0m \u001b[1m0s\u001b[0m 28ms/step - accuracy: 0.7434 - loss: 1.5498\n",
            "Epoch 61/100\n",
            "\u001b[1m8/8\u001b[0m \u001b[32m━━━━━━━━━━━━━━━━━━━━\u001b[0m\u001b[37m\u001b[0m \u001b[1m0s\u001b[0m 26ms/step - accuracy: 0.7526 - loss: 1.4755\n",
            "Epoch 62/100\n",
            "\u001b[1m8/8\u001b[0m \u001b[32m━━━━━━━━━━━━━━━━━━━━\u001b[0m\u001b[37m\u001b[0m \u001b[1m0s\u001b[0m 58ms/step - accuracy: 0.7985 - loss: 1.4694\n",
            "Epoch 63/100\n",
            "\u001b[1m8/8\u001b[0m \u001b[32m━━━━━━━━━━━━━━━━━━━━\u001b[0m\u001b[37m\u001b[0m \u001b[1m1s\u001b[0m 54ms/step - accuracy: 0.7752 - loss: 1.4121\n",
            "Epoch 64/100\n",
            "\u001b[1m8/8\u001b[0m \u001b[32m━━━━━━━━━━━━━━━━━━━━\u001b[0m\u001b[37m\u001b[0m \u001b[1m0s\u001b[0m 52ms/step - accuracy: 0.7880 - loss: 1.3436\n",
            "Epoch 65/100\n",
            "\u001b[1m8/8\u001b[0m \u001b[32m━━━━━━━━━━━━━━━━━━━━\u001b[0m\u001b[37m\u001b[0m \u001b[1m1s\u001b[0m 49ms/step - accuracy: 0.7891 - loss: 1.4116\n",
            "Epoch 66/100\n",
            "\u001b[1m8/8\u001b[0m \u001b[32m━━━━━━━━━━━━━━━━━━━━\u001b[0m\u001b[37m\u001b[0m \u001b[1m1s\u001b[0m 60ms/step - accuracy: 0.8392 - loss: 1.2693\n",
            "Epoch 67/100\n",
            "\u001b[1m8/8\u001b[0m \u001b[32m━━━━━━━━━━━━━━━━━━━━\u001b[0m\u001b[37m\u001b[0m \u001b[1m0s\u001b[0m 35ms/step - accuracy: 0.8301 - loss: 1.2528\n",
            "Epoch 68/100\n",
            "\u001b[1m8/8\u001b[0m \u001b[32m━━━━━━━━━━━━━━━━━━━━\u001b[0m\u001b[37m\u001b[0m \u001b[1m1s\u001b[0m 30ms/step - accuracy: 0.8404 - loss: 1.1811\n",
            "Epoch 69/100\n",
            "\u001b[1m8/8\u001b[0m \u001b[32m━━━━━━━━━━━━━━━━━━━━\u001b[0m\u001b[37m\u001b[0m \u001b[1m0s\u001b[0m 26ms/step - accuracy: 0.8185 - loss: 1.2054\n",
            "Epoch 70/100\n",
            "\u001b[1m8/8\u001b[0m \u001b[32m━━━━━━━━━━━━━━━━━━━━\u001b[0m\u001b[37m\u001b[0m \u001b[1m0s\u001b[0m 26ms/step - accuracy: 0.8468 - loss: 1.1575\n",
            "Epoch 71/100\n",
            "\u001b[1m8/8\u001b[0m \u001b[32m━━━━━━━━━━━━━━━━━━━━\u001b[0m\u001b[37m\u001b[0m \u001b[1m0s\u001b[0m 25ms/step - accuracy: 0.8515 - loss: 1.0823\n",
            "Epoch 72/100\n",
            "\u001b[1m8/8\u001b[0m \u001b[32m━━━━━━━━━━━━━━━━━━━━\u001b[0m\u001b[37m\u001b[0m \u001b[1m0s\u001b[0m 26ms/step - accuracy: 0.8531 - loss: 1.0782\n",
            "Epoch 73/100\n",
            "\u001b[1m8/8\u001b[0m \u001b[32m━━━━━━━━━━━━━━━━━━━━\u001b[0m\u001b[37m\u001b[0m \u001b[1m0s\u001b[0m 27ms/step - accuracy: 0.8409 - loss: 1.0654\n",
            "Epoch 74/100\n",
            "\u001b[1m8/8\u001b[0m \u001b[32m━━━━━━━━━━━━━━━━━━━━\u001b[0m\u001b[37m\u001b[0m \u001b[1m0s\u001b[0m 27ms/step - accuracy: 0.8657 - loss: 0.9750\n",
            "Epoch 75/100\n",
            "\u001b[1m8/8\u001b[0m \u001b[32m━━━━━━━━━━━━━━━━━━━━\u001b[0m\u001b[37m\u001b[0m \u001b[1m0s\u001b[0m 32ms/step - accuracy: 0.8995 - loss: 0.9480\n",
            "Epoch 76/100\n",
            "\u001b[1m8/8\u001b[0m \u001b[32m━━━━━━━━━━━━━━━━━━━━\u001b[0m\u001b[37m\u001b[0m \u001b[1m0s\u001b[0m 27ms/step - accuracy: 0.8553 - loss: 0.9471\n",
            "Epoch 77/100\n",
            "\u001b[1m8/8\u001b[0m \u001b[32m━━━━━━━━━━━━━━━━━━━━\u001b[0m\u001b[37m\u001b[0m \u001b[1m0s\u001b[0m 26ms/step - accuracy: 0.8820 - loss: 0.9149\n",
            "Epoch 78/100\n",
            "\u001b[1m8/8\u001b[0m \u001b[32m━━━━━━━━━━━━━━━━━━━━\u001b[0m\u001b[37m\u001b[0m \u001b[1m0s\u001b[0m 27ms/step - accuracy: 0.8816 - loss: 0.8908\n",
            "Epoch 79/100\n",
            "\u001b[1m8/8\u001b[0m \u001b[32m━━━━━━━━━━━━━━━━━━━━\u001b[0m\u001b[37m\u001b[0m \u001b[1m0s\u001b[0m 32ms/step - accuracy: 0.9109 - loss: 0.7956\n",
            "Epoch 80/100\n",
            "\u001b[1m8/8\u001b[0m \u001b[32m━━━━━━━━━━━━━━━━━━━━\u001b[0m\u001b[37m\u001b[0m \u001b[1m0s\u001b[0m 27ms/step - accuracy: 0.9023 - loss: 0.8206\n",
            "Epoch 81/100\n",
            "\u001b[1m8/8\u001b[0m \u001b[32m━━━━━━━━━━━━━━━━━━━━\u001b[0m\u001b[37m\u001b[0m \u001b[1m0s\u001b[0m 26ms/step - accuracy: 0.8744 - loss: 0.7810\n",
            "Epoch 82/100\n",
            "\u001b[1m8/8\u001b[0m \u001b[32m━━━━━━━━━━━━━━━━━━━━\u001b[0m\u001b[37m\u001b[0m \u001b[1m0s\u001b[0m 30ms/step - accuracy: 0.9099 - loss: 0.7684\n",
            "Epoch 83/100\n",
            "\u001b[1m8/8\u001b[0m \u001b[32m━━━━━━━━━━━━━━━━━━━━\u001b[0m\u001b[37m\u001b[0m \u001b[1m0s\u001b[0m 27ms/step - accuracy: 0.9060 - loss: 0.7461\n",
            "Epoch 84/100\n",
            "\u001b[1m8/8\u001b[0m \u001b[32m━━━━━━━━━━━━━━━━━━━━\u001b[0m\u001b[37m\u001b[0m \u001b[1m0s\u001b[0m 26ms/step - accuracy: 0.9384 - loss: 0.7013\n",
            "Epoch 85/100\n",
            "\u001b[1m8/8\u001b[0m \u001b[32m━━━━━━━━━━━━━━━━━━━━\u001b[0m\u001b[37m\u001b[0m \u001b[1m0s\u001b[0m 25ms/step - accuracy: 0.9217 - loss: 0.6904\n",
            "Epoch 86/100\n",
            "\u001b[1m8/8\u001b[0m \u001b[32m━━━━━━━━━━━━━━━━━━━━\u001b[0m\u001b[37m\u001b[0m \u001b[1m0s\u001b[0m 31ms/step - accuracy: 0.9384 - loss: 0.6620\n",
            "Epoch 87/100\n",
            "\u001b[1m8/8\u001b[0m \u001b[32m━━━━━━━━━━━━━━━━━━━━\u001b[0m\u001b[37m\u001b[0m \u001b[1m0s\u001b[0m 28ms/step - accuracy: 0.9305 - loss: 0.6660\n",
            "Epoch 88/100\n",
            "\u001b[1m8/8\u001b[0m \u001b[32m━━━━━━━━━━━━━━━━━━━━\u001b[0m\u001b[37m\u001b[0m \u001b[1m0s\u001b[0m 26ms/step - accuracy: 0.9394 - loss: 0.6201\n",
            "Epoch 89/100\n",
            "\u001b[1m8/8\u001b[0m \u001b[32m━━━━━━━━━━━━━━━━━━━━\u001b[0m\u001b[37m\u001b[0m \u001b[1m0s\u001b[0m 28ms/step - accuracy: 0.9479 - loss: 0.6078\n",
            "Epoch 90/100\n",
            "\u001b[1m8/8\u001b[0m \u001b[32m━━━━━━━━━━━━━━━━━━━━\u001b[0m\u001b[37m\u001b[0m \u001b[1m0s\u001b[0m 31ms/step - accuracy: 0.9393 - loss: 0.6262\n",
            "Epoch 91/100\n",
            "\u001b[1m8/8\u001b[0m \u001b[32m━━━━━━━━━━━━━━━━━━━━\u001b[0m\u001b[37m\u001b[0m \u001b[1m0s\u001b[0m 27ms/step - accuracy: 0.9618 - loss: 0.5628\n",
            "Epoch 92/100\n",
            "\u001b[1m8/8\u001b[0m \u001b[32m━━━━━━━━━━━━━━━━━━━━\u001b[0m\u001b[37m\u001b[0m \u001b[1m0s\u001b[0m 27ms/step - accuracy: 0.9319 - loss: 0.5872\n",
            "Epoch 93/100\n",
            "\u001b[1m8/8\u001b[0m \u001b[32m━━━━━━━━━━━━━━━━━━━━\u001b[0m\u001b[37m\u001b[0m \u001b[1m0s\u001b[0m 30ms/step - accuracy: 0.9275 - loss: 0.5569\n",
            "Epoch 94/100\n",
            "\u001b[1m8/8\u001b[0m \u001b[32m━━━━━━━━━━━━━━━━━━━━\u001b[0m\u001b[37m\u001b[0m \u001b[1m0s\u001b[0m 29ms/step - accuracy: 0.9602 - loss: 0.5440\n",
            "Epoch 95/100\n",
            "\u001b[1m8/8\u001b[0m \u001b[32m━━━━━━━━━━━━━━━━━━━━\u001b[0m\u001b[37m\u001b[0m \u001b[1m0s\u001b[0m 27ms/step - accuracy: 0.9584 - loss: 0.5191\n",
            "Epoch 96/100\n",
            "\u001b[1m8/8\u001b[0m \u001b[32m━━━━━━━━━━━━━━━━━━━━\u001b[0m\u001b[37m\u001b[0m \u001b[1m0s\u001b[0m 27ms/step - accuracy: 0.9520 - loss: 0.4881\n",
            "Epoch 97/100\n",
            "\u001b[1m8/8\u001b[0m \u001b[32m━━━━━━━━━━━━━━━━━━━━\u001b[0m\u001b[37m\u001b[0m \u001b[1m0s\u001b[0m 31ms/step - accuracy: 0.9542 - loss: 0.4663\n",
            "Epoch 98/100\n",
            "\u001b[1m8/8\u001b[0m \u001b[32m━━━━━━━━━━━━━━━━━━━━\u001b[0m\u001b[37m\u001b[0m \u001b[1m0s\u001b[0m 29ms/step - accuracy: 0.9538 - loss: 0.4758\n",
            "Epoch 99/100\n",
            "\u001b[1m8/8\u001b[0m \u001b[32m━━━━━━━━━━━━━━━━━━━━\u001b[0m\u001b[37m\u001b[0m \u001b[1m0s\u001b[0m 27ms/step - accuracy: 0.9542 - loss: 0.4627\n",
            "Epoch 100/100\n",
            "\u001b[1m8/8\u001b[0m \u001b[32m━━━━━━━━━━━━━━━━━━━━\u001b[0m\u001b[37m\u001b[0m \u001b[1m0s\u001b[0m 25ms/step - accuracy: 0.9552 - loss: 0.4616\n"
          ]
        }
      ]
    },
    {
      "cell_type": "code",
      "source": [
        "loss,accuracy = history.history['loss'],history.history['accuracy']"
      ],
      "metadata": {
        "id": "R43Fsm6aEYLL"
      },
      "execution_count": 76,
      "outputs": []
    },
    {
      "cell_type": "code",
      "source": [
        "import numpy as np\n",
        "import matplotlib.pyplot as plt"
      ],
      "metadata": {
        "id": "qhN1Zvz_E2It"
      },
      "execution_count": 77,
      "outputs": []
    },
    {
      "cell_type": "code",
      "source": [
        "plt.plot(loss)\n",
        "plt.plot(accuracy)\n",
        "plt.legend('loss','accuracy')\n",
        "plt.show()"
      ],
      "metadata": {
        "colab": {
          "base_uri": "https://localhost:8080/",
          "height": 499
        },
        "id": "trdpW6VxE7mM",
        "outputId": "4625e793-ba6b-4711-bcdb-ddf1051dcae3"
      },
      "execution_count": 78,
      "outputs": [
        {
          "output_type": "stream",
          "name": "stderr",
          "text": [
            "<ipython-input-78-419bba58ca00>:3: UserWarning: Legend does not support handles for str instances.\n",
            "A proxy artist may be used instead.\n",
            "See: https://matplotlib.org/stable/tutorials/intermediate/legend_guide.html#controlling-the-legend-entries\n",
            "  plt.legend('loss','accuracy')\n"
          ]
        },
        {
          "output_type": "display_data",
          "data": {
            "text/plain": [
              "<Figure size 640x480 with 1 Axes>"
            ],
            "image/png": "[encoded data removed]"
          },
          "metadata": {}
        }
      ]
    },
    {
      "cell_type": "code",
      "source": [
        "word = 'golden rays'\n",
        "# tokenizing\n",
        "tokens = tokenizer.texts_to_sequences([word])[0]\n",
        "tokens"
      ],
      "metadata": {
        "colab": {
          "base_uri": "https://localhost:8080/"
        },
        "id": "ujP3gTVpFbVT",
        "outputId": "f816f614-3829-47aa-8b63-be3fbe9f22af"
      },
      "execution_count": 79,
      "outputs": [
        {
          "output_type": "execute_result",
          "data": {
            "text/plain": [
              "[45, 46]"
            ]
          },
          "metadata": {},
          "execution_count": 79
        }
      ]
    },
    {
      "cell_type": "code",
      "source": [
        "#pad sequences\n",
        "padded_tokens = pad_sequences(maxlen = 17,sequences=[tokens],padding='pre')\n",
        "padded_tokens"
      ],
      "metadata": {
        "colab": {
          "base_uri": "https://localhost:8080/"
        },
        "id": "QOpTmMMGGIbM",
        "outputId": "a2c81f74-25ad-4873-e06a-8cc43c68bc44"
      },
      "execution_count": 80,
      "outputs": [
        {
          "output_type": "execute_result",
          "data": {
            "text/plain": [
              "array([[ 0,  0,  0,  0,  0,  0,  0,  0,  0,  0,  0,  0,  0,  0,  0, 45,\n",
              "        46]], dtype=int32)"
            ]
          },
          "metadata": {},
          "execution_count": 80
        }
      ]
    },
    {
      "cell_type": "code",
      "source": [
        "index = np.argmax(model.predict(padded_tokens))"
      ],
      "metadata": {
        "colab": {
          "base_uri": "https://localhost:8080/"
        },
        "id": "1CqQCHXUGYW_",
        "outputId": "0345e44c-1b8b-4889-b79b-08086f8ad95c"
      },
      "execution_count": 81,
      "outputs": [
        {
          "output_type": "stream",
          "name": "stdout",
          "text": [
            "\u001b[1m1/1\u001b[0m \u001b[32m━━━━━━━━━━━━━━━━━━━━\u001b[0m\u001b[37m\u001b[0m \u001b[1m0s\u001b[0m 174ms/step\n"
          ]
        }
      ]
    },
    {
      "cell_type": "code",
      "source": [
        "index"
      ],
      "metadata": {
        "colab": {
          "base_uri": "https://localhost:8080/"
        },
        "id": "JOnRNBL3HCLp",
        "outputId": "a3fe8762-db8e-4a6e-98b1-49b4bf62d216"
      },
      "execution_count": 82,
      "outputs": [
        {
          "output_type": "execute_result",
          "data": {
            "text/plain": [
              "2"
            ]
          },
          "metadata": {},
          "execution_count": 82
        }
      ]
    },
    {
      "cell_type": "code",
      "source": [
        "for word,idx in tokenizer.word_index.items():\n",
        "  if idx == index:\n",
        "    print(word)"
      ],
      "metadata": {
        "colab": {
          "base_uri": "https://localhost:8080/"
        },
        "id": "7pXb5_K6HMtZ",
        "outputId": "ff4ec719-498e-4bab-c174-35c2135e7155"
      },
      "execution_count": 83,
      "outputs": [
        {
          "output_type": "stream",
          "name": "stdout",
          "text": [
            "of\n"
          ]
        }
      ]
    },
    {
      "cell_type": "code",
      "source": [
        "text = 'golden rays'\n",
        "for i in range (5):\n",
        "  tokens = tokenizer.texts_to_sequences([text])[0]\n",
        "  padded_tokens = pad_sequences(maxlen = 16,sequences=[tokens],padding='pre')\n",
        "  index = np.argmax(model.predict(padded_tokens))\n",
        "\n",
        "  for word,idx in tokenizer.word_index.items():\n",
        "    if idx == index:\n",
        "      print(word)\n",
        "      text = text + ' ' + word\n",
        "      break\n",
        ""
      ],
      "metadata": {
        "colab": {
          "base_uri": "https://localhost:8080/"
        },
        "id": "e4rJQO7vHVrn",
        "outputId": "3be31a10-3da2-491f-dc55-45c95599805d"
      },
      "execution_count": 84,
      "outputs": [
        {
          "output_type": "stream",
          "name": "stdout",
          "text": [
            "\u001b[1m1/1\u001b[0m \u001b[32m━━━━━━━━━━━━━━━━━━━━\u001b[0m\u001b[37m\u001b[0m \u001b[1m0s\u001b[0m 184ms/step\n",
            "of\n",
            "\u001b[1m1/1\u001b[0m \u001b[32m━━━━━━━━━━━━━━━━━━━━\u001b[0m\u001b[37m\u001b[0m \u001b[1m0s\u001b[0m 21ms/step\n",
            "the\n",
            "\u001b[1m1/1\u001b[0m \u001b[32m━━━━━━━━━━━━━━━━━━━━\u001b[0m\u001b[37m\u001b[0m \u001b[1m0s\u001b[0m 21ms/step\n",
            "setting\n",
            "\u001b[1m1/1\u001b[0m \u001b[32m━━━━━━━━━━━━━━━━━━━━\u001b[0m\u001b[37m\u001b[0m \u001b[1m0s\u001b[0m 23ms/step\n",
            "sun\n",
            "\u001b[1m1/1\u001b[0m \u001b[32m━━━━━━━━━━━━━━━━━━━━\u001b[0m\u001b[37m\u001b[0m \u001b[1m0s\u001b[0m 21ms/step\n",
            "painted\n"
          ]
        }
      ]
    },
    {
      "cell_type": "code",
      "source": [],
      "metadata": {
        "id": "zxiwSmf8IDhT"
      },
      "execution_count": null,
      "outputs": []
    }
  ]
}